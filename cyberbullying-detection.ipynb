{
 "cells": [
  {
   "cell_type": "markdown",
   "id": "86f1032c",
   "metadata": {
    "papermill": {
     "duration": 0.059732,
     "end_time": "2022-04-17T02:57:26.159425",
     "exception": false,
     "start_time": "2022-04-17T02:57:26.099693",
     "status": "completed"
    },
    "tags": []
   },
   "source": [
    "# Applied Machine Learning Project: Cyberbullying Detection"
   ]
  },
  {
   "cell_type": "markdown",
   "id": "bb5f0277",
   "metadata": {
    "papermill": {
     "duration": 0.064405,
     "end_time": "2022-04-17T02:57:26.294385",
     "exception": false,
     "start_time": "2022-04-17T02:57:26.229980",
     "status": "completed"
    },
    "tags": []
   },
   "source": [
    "## Author: Ammish Tandon"
   ]
  },
  {
   "cell_type": "code",
   "execution_count": 1,
   "id": "57f2b8bb",
   "metadata": {
    "execution": {
     "iopub.execute_input": "2022-04-17T02:57:26.415722Z",
     "iopub.status.busy": "2022-04-17T02:57:26.413915Z",
     "iopub.status.idle": "2022-04-17T02:57:28.552033Z",
     "shell.execute_reply": "2022-04-17T02:57:28.551182Z",
     "shell.execute_reply.started": "2022-04-16T09:37:22.070261Z"
    },
    "papermill": {
     "duration": 2.200564,
     "end_time": "2022-04-17T02:57:28.552202",
     "exception": false,
     "start_time": "2022-04-17T02:57:26.351638",
     "status": "completed"
    },
    "tags": []
   },
   "outputs": [],
   "source": [
    "# Importing the libraries\n",
    "import numpy as np\n",
    "import pandas as pd\n",
    "import matplotlib.pyplot as plt\n",
    "import seaborn as sns\n",
    "import plotly.express as px"
   ]
  },
  {
   "cell_type": "code",
   "execution_count": 2,
   "id": "4130fa09",
   "metadata": {
    "execution": {
     "iopub.execute_input": "2022-04-17T02:57:28.674184Z",
     "iopub.status.busy": "2022-04-17T02:57:28.673478Z",
     "iopub.status.idle": "2022-04-17T02:57:28.936920Z",
     "shell.execute_reply": "2022-04-17T02:57:28.937417Z",
     "shell.execute_reply.started": "2022-04-16T09:37:24.344704Z"
    },
    "papermill": {
     "duration": 0.326925,
     "end_time": "2022-04-17T02:57:28.937601",
     "exception": false,
     "start_time": "2022-04-17T02:57:28.610676",
     "status": "completed"
    },
    "tags": []
   },
   "outputs": [],
   "source": [
    "df = pd.read_csv('../input/cyberbullying-classification/cyberbullying_tweets.csv')  # Importing the dataset"
   ]
  },
  {
   "cell_type": "markdown",
   "id": "7b002fb9",
   "metadata": {
    "papermill": {
     "duration": 0.058876,
     "end_time": "2022-04-17T02:57:29.055201",
     "exception": false,
     "start_time": "2022-04-17T02:57:28.996325",
     "status": "completed"
    },
    "tags": []
   },
   "source": [
    "## Quick Data Check"
   ]
  },
  {
   "cell_type": "code",
   "execution_count": 3,
   "id": "65cf8cc7",
   "metadata": {
    "execution": {
     "iopub.execute_input": "2022-04-17T02:57:29.176990Z",
     "iopub.status.busy": "2022-04-17T02:57:29.176367Z",
     "iopub.status.idle": "2022-04-17T02:57:29.192915Z",
     "shell.execute_reply": "2022-04-17T02:57:29.193427Z",
     "shell.execute_reply.started": "2022-04-16T09:37:24.56497Z"
    },
    "papermill": {
     "duration": 0.080126,
     "end_time": "2022-04-17T02:57:29.193612",
     "exception": false,
     "start_time": "2022-04-17T02:57:29.113486",
     "status": "completed"
    },
    "tags": []
   },
   "outputs": [
    {
     "data": {
      "text/html": [
       "<div>\n",
       "<style scoped>\n",
       "    .dataframe tbody tr th:only-of-type {\n",
       "        vertical-align: middle;\n",
       "    }\n",
       "\n",
       "    .dataframe tbody tr th {\n",
       "        vertical-align: top;\n",
       "    }\n",
       "\n",
       "    .dataframe thead th {\n",
       "        text-align: right;\n",
       "    }\n",
       "</style>\n",
       "<table border=\"1\" class=\"dataframe\">\n",
       "  <thead>\n",
       "    <tr style=\"text-align: right;\">\n",
       "      <th></th>\n",
       "      <th>tweet_text</th>\n",
       "      <th>cyberbullying_type</th>\n",
       "    </tr>\n",
       "  </thead>\n",
       "  <tbody>\n",
       "    <tr>\n",
       "      <th>0</th>\n",
       "      <td>In other words #katandandre, your food was cra...</td>\n",
       "      <td>not_cyberbullying</td>\n",
       "    </tr>\n",
       "    <tr>\n",
       "      <th>1</th>\n",
       "      <td>Why is #aussietv so white? #MKR #theblock #ImA...</td>\n",
       "      <td>not_cyberbullying</td>\n",
       "    </tr>\n",
       "    <tr>\n",
       "      <th>2</th>\n",
       "      <td>@XochitlSuckkks a classy whore? Or more red ve...</td>\n",
       "      <td>not_cyberbullying</td>\n",
       "    </tr>\n",
       "    <tr>\n",
       "      <th>3</th>\n",
       "      <td>@Jason_Gio meh. :P  thanks for the heads up, b...</td>\n",
       "      <td>not_cyberbullying</td>\n",
       "    </tr>\n",
       "    <tr>\n",
       "      <th>4</th>\n",
       "      <td>@RudhoeEnglish This is an ISIS account pretend...</td>\n",
       "      <td>not_cyberbullying</td>\n",
       "    </tr>\n",
       "  </tbody>\n",
       "</table>\n",
       "</div>"
      ],
      "text/plain": [
       "                                          tweet_text cyberbullying_type\n",
       "0  In other words #katandandre, your food was cra...  not_cyberbullying\n",
       "1  Why is #aussietv so white? #MKR #theblock #ImA...  not_cyberbullying\n",
       "2  @XochitlSuckkks a classy whore? Or more red ve...  not_cyberbullying\n",
       "3  @Jason_Gio meh. :P  thanks for the heads up, b...  not_cyberbullying\n",
       "4  @RudhoeEnglish This is an ISIS account pretend...  not_cyberbullying"
      ]
     },
     "execution_count": 3,
     "metadata": {},
     "output_type": "execute_result"
    }
   ],
   "source": [
    "df.head()"
   ]
  },
  {
   "cell_type": "code",
   "execution_count": 4,
   "id": "64a976bd",
   "metadata": {
    "execution": {
     "iopub.execute_input": "2022-04-17T02:57:29.317015Z",
     "iopub.status.busy": "2022-04-17T02:57:29.316385Z",
     "iopub.status.idle": "2022-04-17T02:57:29.348837Z",
     "shell.execute_reply": "2022-04-17T02:57:29.349891Z",
     "shell.execute_reply.started": "2022-04-16T09:37:24.585845Z"
    },
    "papermill": {
     "duration": 0.0952,
     "end_time": "2022-04-17T02:57:29.350077",
     "exception": false,
     "start_time": "2022-04-17T02:57:29.254877",
     "status": "completed"
    },
    "tags": []
   },
   "outputs": [
    {
     "name": "stdout",
     "output_type": "stream",
     "text": [
      "<class 'pandas.core.frame.DataFrame'>\n",
      "RangeIndex: 47692 entries, 0 to 47691\n",
      "Data columns (total 2 columns):\n",
      " #   Column              Non-Null Count  Dtype \n",
      "---  ------              --------------  ----- \n",
      " 0   tweet_text          47692 non-null  object\n",
      " 1   cyberbullying_type  47692 non-null  object\n",
      "dtypes: object(2)\n",
      "memory usage: 745.3+ KB\n"
     ]
    }
   ],
   "source": [
    "df.info()"
   ]
  },
  {
   "cell_type": "code",
   "execution_count": 5,
   "id": "07fe45c2",
   "metadata": {
    "execution": {
     "iopub.execute_input": "2022-04-17T02:57:29.473393Z",
     "iopub.status.busy": "2022-04-17T02:57:29.472695Z",
     "iopub.status.idle": "2022-04-17T02:57:40.007068Z",
     "shell.execute_reply": "2022-04-17T02:57:40.006496Z",
     "shell.execute_reply.started": "2022-04-16T09:37:24.626775Z"
    },
    "papermill": {
     "duration": 10.597543,
     "end_time": "2022-04-17T02:57:40.007244",
     "exception": false,
     "start_time": "2022-04-17T02:57:29.409701",
     "status": "completed"
    },
    "tags": []
   },
   "outputs": [
    {
     "name": "stdout",
     "output_type": "stream",
     "text": [
      "Collecting demoji\r\n",
      "  Downloading demoji-1.1.0-py3-none-any.whl (42 kB)\r\n",
      "     |████████████████████████████████| 42 kB 208 kB/s            \r\n",
      "\u001b[?25hInstalling collected packages: demoji\r\n",
      "Successfully installed demoji-1.1.0\r\n",
      "\u001b[33mWARNING: Running pip as the 'root' user can result in broken permissions and conflicting behaviour with the system package manager. It is recommended to use a virtual environment instead: https://pip.pypa.io/warnings/venv\u001b[0m\r\n"
     ]
    }
   ],
   "source": [
    "!pip install demoji"
   ]
  },
  {
   "cell_type": "markdown",
   "id": "56558149",
   "metadata": {
    "papermill": {
     "duration": 0.061169,
     "end_time": "2022-04-17T02:57:40.131897",
     "exception": false,
     "start_time": "2022-04-17T02:57:40.070728",
     "status": "completed"
    },
    "tags": []
   },
   "source": [
    "## Data Preprocessing"
   ]
  },
  {
   "cell_type": "code",
   "execution_count": 6,
   "id": "5b2423a1",
   "metadata": {
    "execution": {
     "iopub.execute_input": "2022-04-17T02:57:40.261128Z",
     "iopub.status.busy": "2022-04-17T02:57:40.260506Z",
     "iopub.status.idle": "2022-04-17T02:57:41.012618Z",
     "shell.execute_reply": "2022-04-17T02:57:41.011910Z",
     "shell.execute_reply.started": "2022-04-16T09:37:35.246465Z"
    },
    "papermill": {
     "duration": 0.819902,
     "end_time": "2022-04-17T02:57:41.012762",
     "exception": false,
     "start_time": "2022-04-17T02:57:40.192860",
     "status": "completed"
    },
    "tags": []
   },
   "outputs": [],
   "source": [
    "import re\n",
    "from nltk.corpus import stopwords\n",
    "from nltk.stem.snowball import SnowballStemmer\n",
    "import demoji\n",
    "import string"
   ]
  },
  {
   "cell_type": "code",
   "execution_count": 7,
   "id": "2aaf5813",
   "metadata": {
    "_kg_hide-input": true,
    "execution": {
     "iopub.execute_input": "2022-04-17T02:57:41.140993Z",
     "iopub.status.busy": "2022-04-17T02:57:41.140347Z",
     "iopub.status.idle": "2022-04-17T02:57:41.142107Z",
     "shell.execute_reply": "2022-04-17T02:57:41.142612Z",
     "shell.execute_reply.started": "2022-04-16T09:37:36.096076Z"
    },
    "papermill": {
     "duration": 0.068117,
     "end_time": "2022-04-17T02:57:41.142774",
     "exception": false,
     "start_time": "2022-04-17T02:57:41.074657",
     "status": "completed"
    },
    "tags": []
   },
   "outputs": [],
   "source": [
    "import warnings\n",
    "warnings.filterwarnings(\"ignore\")\n",
    "from warnings import simplefilter\n",
    "from sklearn.exceptions import ConvergenceWarning\n",
    "simplefilter(\"ignore\", category=ConvergenceWarning)"
   ]
  },
  {
   "cell_type": "code",
   "execution_count": 8,
   "id": "c6464437",
   "metadata": {
    "execution": {
     "iopub.execute_input": "2022-04-17T02:57:41.267692Z",
     "iopub.status.busy": "2022-04-17T02:57:41.267022Z",
     "iopub.status.idle": "2022-04-17T02:57:41.283010Z",
     "shell.execute_reply": "2022-04-17T02:57:41.282452Z",
     "shell.execute_reply.started": "2022-04-16T09:37:36.102909Z"
    },
    "papermill": {
     "duration": 0.079831,
     "end_time": "2022-04-17T02:57:41.283148",
     "exception": false,
     "start_time": "2022-04-17T02:57:41.203317",
     "status": "completed"
    },
    "tags": []
   },
   "outputs": [],
   "source": [
    "STOPWORDS = set(stopwords.words('english'))\n",
    "STOPWORDS.update(['rt', 'mkr', 'didn', 'bc', 'n', 'm', \n",
    "                  'im', 'll', 'y', 've', 'u', 'ur', 'don', \n",
    "                  'p', 't', 's', 'aren', 'kp', 'o', 'kat', \n",
    "                  'de', 're', 'amp', 'will', 'wa', 'e', 'like'])\n",
    "stemmer = SnowballStemmer('english')\n",
    "def clean_text(text):\n",
    "    \n",
    "    # Remove Hashtag, Mention, URLs\n",
    "    pattern = re.compile(r\"(#[A-Za-z0-9]+|@[A-Za-z0-9]+|https?://\\S+|www\\.\\S+|\\S+\\.[a-z]+|RT @)\")\n",
    "    text = pattern.sub('', text)\n",
    "    text = \" \".join(text.split())\n",
    "    \n",
    "    # Make all text lowercase\n",
    "    text = text.lower()\n",
    "    \n",
    "    # Stemming\n",
    "    text = \" \".join([stemmer.stem(word) for word in text.split()])\n",
    "    \n",
    "    # Removing Punctuations\n",
    "    remove_punc = re.compile(r\"[%s]\" % re.escape(string.punctuation))\n",
    "    text = remove_punc.sub('', text)\n",
    "    \n",
    "    # Removing stopwords\n",
    "    text = \" \".join([word for word in str(text).split() if word not in STOPWORDS])\n",
    "    \n",
    "    # Taking care of emojis\n",
    "    emoji = demoji.findall(text)\n",
    "    for emot in emoji:\n",
    "        text = re.sub(r\"(%s)\" % (emot), \"_\".join(emoji[emot].split()), text)\n",
    "\n",
    "    return text"
   ]
  },
  {
   "cell_type": "code",
   "execution_count": 9,
   "id": "9cede729",
   "metadata": {
    "execution": {
     "iopub.execute_input": "2022-04-17T02:57:41.416449Z",
     "iopub.status.busy": "2022-04-17T02:57:41.415787Z",
     "iopub.status.idle": "2022-04-17T02:58:22.321355Z",
     "shell.execute_reply": "2022-04-17T02:58:22.321899Z",
     "shell.execute_reply.started": "2022-04-16T09:37:36.12402Z"
    },
    "papermill": {
     "duration": 40.977666,
     "end_time": "2022-04-17T02:58:22.322090",
     "exception": false,
     "start_time": "2022-04-17T02:57:41.344424",
     "status": "completed"
    },
    "tags": []
   },
   "outputs": [],
   "source": [
    "df['cleaned_text'] = df['tweet_text'].apply(lambda text: clean_text(text))  # Applying the cleaning to the text data"
   ]
  },
  {
   "cell_type": "code",
   "execution_count": 10,
   "id": "89d8fcb4",
   "metadata": {
    "execution": {
     "iopub.execute_input": "2022-04-17T02:58:22.446798Z",
     "iopub.status.busy": "2022-04-17T02:58:22.446107Z",
     "iopub.status.idle": "2022-04-17T02:58:22.455076Z",
     "shell.execute_reply": "2022-04-17T02:58:22.455674Z",
     "shell.execute_reply.started": "2022-04-16T09:38:12.849851Z"
    },
    "papermill": {
     "duration": 0.0731,
     "end_time": "2022-04-17T02:58:22.455836",
     "exception": false,
     "start_time": "2022-04-17T02:58:22.382736",
     "status": "completed"
    },
    "tags": []
   },
   "outputs": [
    {
     "data": {
      "text/html": [
       "<div>\n",
       "<style scoped>\n",
       "    .dataframe tbody tr th:only-of-type {\n",
       "        vertical-align: middle;\n",
       "    }\n",
       "\n",
       "    .dataframe tbody tr th {\n",
       "        vertical-align: top;\n",
       "    }\n",
       "\n",
       "    .dataframe thead th {\n",
       "        text-align: right;\n",
       "    }\n",
       "</style>\n",
       "<table border=\"1\" class=\"dataframe\">\n",
       "  <thead>\n",
       "    <tr style=\"text-align: right;\">\n",
       "      <th></th>\n",
       "      <th>tweet_text</th>\n",
       "      <th>cyberbullying_type</th>\n",
       "      <th>cleaned_text</th>\n",
       "    </tr>\n",
       "  </thead>\n",
       "  <tbody>\n",
       "    <tr>\n",
       "      <th>0</th>\n",
       "      <td>In other words #katandandre, your food was cra...</td>\n",
       "      <td>not_cyberbullying</td>\n",
       "      <td>word food crapilicious</td>\n",
       "    </tr>\n",
       "    <tr>\n",
       "      <th>1</th>\n",
       "      <td>Why is #aussietv so white? #MKR #theblock #ImA...</td>\n",
       "      <td>not_cyberbullying</td>\n",
       "      <td>whi white</td>\n",
       "    </tr>\n",
       "    <tr>\n",
       "      <th>2</th>\n",
       "      <td>@XochitlSuckkks a classy whore? Or more red ve...</td>\n",
       "      <td>not_cyberbullying</td>\n",
       "      <td>classi whore red velvet cupcakes</td>\n",
       "    </tr>\n",
       "    <tr>\n",
       "      <th>3</th>\n",
       "      <td>@Jason_Gio meh. :P  thanks for the heads up, b...</td>\n",
       "      <td>not_cyberbullying</td>\n",
       "      <td>gio meh thank head concern anoth angri dude tw...</td>\n",
       "    </tr>\n",
       "    <tr>\n",
       "      <th>4</th>\n",
       "      <td>@RudhoeEnglish This is an ISIS account pretend...</td>\n",
       "      <td>not_cyberbullying</td>\n",
       "      <td>isi account pretend kurdish account islam lies</td>\n",
       "    </tr>\n",
       "  </tbody>\n",
       "</table>\n",
       "</div>"
      ],
      "text/plain": [
       "                                          tweet_text cyberbullying_type  \\\n",
       "0  In other words #katandandre, your food was cra...  not_cyberbullying   \n",
       "1  Why is #aussietv so white? #MKR #theblock #ImA...  not_cyberbullying   \n",
       "2  @XochitlSuckkks a classy whore? Or more red ve...  not_cyberbullying   \n",
       "3  @Jason_Gio meh. :P  thanks for the heads up, b...  not_cyberbullying   \n",
       "4  @RudhoeEnglish This is an ISIS account pretend...  not_cyberbullying   \n",
       "\n",
       "                                        cleaned_text  \n",
       "0                             word food crapilicious  \n",
       "1                                          whi white  \n",
       "2                   classi whore red velvet cupcakes  \n",
       "3  gio meh thank head concern anoth angri dude tw...  \n",
       "4     isi account pretend kurdish account islam lies  "
      ]
     },
     "execution_count": 10,
     "metadata": {},
     "output_type": "execute_result"
    }
   ],
   "source": [
    "df.head()"
   ]
  },
  {
   "cell_type": "code",
   "execution_count": 11,
   "id": "4e7af9f3",
   "metadata": {
    "execution": {
     "iopub.execute_input": "2022-04-17T02:58:22.581956Z",
     "iopub.status.busy": "2022-04-17T02:58:22.581337Z",
     "iopub.status.idle": "2022-04-17T02:58:22.605193Z",
     "shell.execute_reply": "2022-04-17T02:58:22.605724Z",
     "shell.execute_reply.started": "2022-04-16T09:38:12.861079Z"
    },
    "papermill": {
     "duration": 0.088864,
     "end_time": "2022-04-17T02:58:22.605899",
     "exception": false,
     "start_time": "2022-04-17T02:58:22.517035",
     "status": "completed"
    },
    "tags": []
   },
   "outputs": [
    {
     "data": {
      "text/plain": [
       "tweet_text            0\n",
       "cyberbullying_type    0\n",
       "cleaned_text          0\n",
       "dtype: int64"
      ]
     },
     "execution_count": 11,
     "metadata": {},
     "output_type": "execute_result"
    }
   ],
   "source": [
    "df.isnull().sum()  # Checking for missing values"
   ]
  },
  {
   "cell_type": "code",
   "execution_count": 12,
   "id": "28b8c697",
   "metadata": {
    "execution": {
     "iopub.execute_input": "2022-04-17T02:58:22.745470Z",
     "iopub.status.busy": "2022-04-17T02:58:22.744783Z",
     "iopub.status.idle": "2022-04-17T02:58:22.748604Z",
     "shell.execute_reply": "2022-04-17T02:58:22.747997Z",
     "shell.execute_reply.started": "2022-04-16T09:38:12.884223Z"
    },
    "papermill": {
     "duration": 0.081335,
     "end_time": "2022-04-17T02:58:22.748755",
     "exception": false,
     "start_time": "2022-04-17T02:58:22.667420",
     "status": "completed"
    },
    "tags": []
   },
   "outputs": [
    {
     "data": {
      "text/plain": [
       "2887"
      ]
     },
     "execution_count": 12,
     "metadata": {},
     "output_type": "execute_result"
    }
   ],
   "source": [
    "df['cleaned_text'].duplicated().sum() # Checking for duplicate values"
   ]
  },
  {
   "cell_type": "code",
   "execution_count": 13,
   "id": "2353a841",
   "metadata": {
    "execution": {
     "iopub.execute_input": "2022-04-17T02:58:22.879567Z",
     "iopub.status.busy": "2022-04-17T02:58:22.878873Z",
     "iopub.status.idle": "2022-04-17T02:58:22.913136Z",
     "shell.execute_reply": "2022-04-17T02:58:22.912571Z",
     "shell.execute_reply.started": "2022-04-16T09:38:12.906193Z"
    },
    "papermill": {
     "duration": 0.101405,
     "end_time": "2022-04-17T02:58:22.913332",
     "exception": false,
     "start_time": "2022-04-17T02:58:22.811927",
     "status": "completed"
    },
    "tags": []
   },
   "outputs": [],
   "source": [
    "df.drop_duplicates(\"cleaned_text\", inplace = True)"
   ]
  },
  {
   "cell_type": "code",
   "execution_count": 14,
   "id": "994ed32e",
   "metadata": {
    "execution": {
     "iopub.execute_input": "2022-04-17T02:58:23.042778Z",
     "iopub.status.busy": "2022-04-17T02:58:23.042082Z",
     "iopub.status.idle": "2022-04-17T02:58:23.068101Z",
     "shell.execute_reply": "2022-04-17T02:58:23.068628Z",
     "shell.execute_reply.started": "2022-04-16T09:38:12.948054Z"
    },
    "papermill": {
     "duration": 0.092737,
     "end_time": "2022-04-17T02:58:23.068800",
     "exception": false,
     "start_time": "2022-04-17T02:58:22.976063",
     "status": "completed"
    },
    "tags": []
   },
   "outputs": [
    {
     "data": {
      "text/plain": [
       "0"
      ]
     },
     "execution_count": 14,
     "metadata": {},
     "output_type": "execute_result"
    }
   ],
   "source": [
    "df['cleaned_text'].str.isspace().sum()     # Checking for tweets with only whitespaces"
   ]
  },
  {
   "cell_type": "code",
   "execution_count": 15,
   "id": "83338bbb",
   "metadata": {
    "execution": {
     "iopub.execute_input": "2022-04-17T02:58:23.197415Z",
     "iopub.status.busy": "2022-04-17T02:58:23.196731Z",
     "iopub.status.idle": "2022-04-17T02:58:23.210435Z",
     "shell.execute_reply": "2022-04-17T02:58:23.210904Z",
     "shell.execute_reply.started": "2022-04-16T09:38:12.968236Z"
    },
    "papermill": {
     "duration": 0.079249,
     "end_time": "2022-04-17T02:58:23.211075",
     "exception": false,
     "start_time": "2022-04-17T02:58:23.131826",
     "status": "completed"
    },
    "tags": []
   },
   "outputs": [],
   "source": [
    "df = df[df[\"cyberbullying_type\"]!=\"other_cyberbullying\"]"
   ]
  },
  {
   "cell_type": "code",
   "execution_count": 16,
   "id": "ed87cbfb",
   "metadata": {
    "execution": {
     "iopub.execute_input": "2022-04-17T02:58:23.346528Z",
     "iopub.status.busy": "2022-04-17T02:58:23.345914Z",
     "iopub.status.idle": "2022-04-17T02:58:23.350989Z",
     "shell.execute_reply": "2022-04-17T02:58:23.351453Z",
     "shell.execute_reply.started": "2022-04-16T09:38:12.979555Z"
    },
    "papermill": {
     "duration": 0.077854,
     "end_time": "2022-04-17T02:58:23.351615",
     "exception": false,
     "start_time": "2022-04-17T02:58:23.273761",
     "status": "completed"
    },
    "tags": []
   },
   "outputs": [
    {
     "data": {
      "text/plain": [
       "religion             7946\n",
       "age                  7887\n",
       "ethnicity            7797\n",
       "not_cyberbullying    7670\n",
       "gender               7637\n",
       "Name: cyberbullying_type, dtype: int64"
      ]
     },
     "execution_count": 16,
     "metadata": {},
     "output_type": "execute_result"
    }
   ],
   "source": [
    "df['cyberbullying_type'].value_counts()"
   ]
  },
  {
   "cell_type": "code",
   "execution_count": 17,
   "id": "8e76dd68",
   "metadata": {
    "execution": {
     "iopub.execute_input": "2022-04-17T02:58:23.486063Z",
     "iopub.status.busy": "2022-04-17T02:58:23.485416Z",
     "iopub.status.idle": "2022-04-17T02:58:23.765830Z",
     "shell.execute_reply": "2022-04-17T02:58:23.766270Z",
     "shell.execute_reply.started": "2022-04-16T09:38:12.994501Z"
    },
    "papermill": {
     "duration": 0.351987,
     "end_time": "2022-04-17T02:58:23.766438",
     "exception": false,
     "start_time": "2022-04-17T02:58:23.414451",
     "status": "completed"
    },
    "tags": []
   },
   "outputs": [
    {
     "data": {
      "text/plain": [
       "<AxesSubplot:xlabel='cyberbullying_type', ylabel='count'>"
      ]
     },
     "execution_count": 17,
     "metadata": {},
     "output_type": "execute_result"
    },
    {
     "data": {
      "image/png": "[encoded data removed]",
      "text/plain": [
       "<Figure size 432x288 with 1 Axes>"
      ]
     },
     "metadata": {
      "needs_background": "light"
     },
     "output_type": "display_data"
    }
   ],
   "source": [
    "sns.countplot(data = df, x = 'cyberbullying_type')"
   ]
  },
  {
   "cell_type": "markdown",
   "id": "2302f08d",
   "metadata": {
    "papermill": {
     "duration": 0.064845,
     "end_time": "2022-04-17T02:58:23.895476",
     "exception": false,
     "start_time": "2022-04-17T02:58:23.830631",
     "status": "completed"
    },
    "tags": []
   },
   "source": [
    "This is a balanced dataset."
   ]
  },
  {
   "cell_type": "code",
   "execution_count": 18,
   "id": "0f31edb3",
   "metadata": {
    "execution": {
     "iopub.execute_input": "2022-04-17T02:58:24.027759Z",
     "iopub.status.busy": "2022-04-17T02:58:24.027110Z",
     "iopub.status.idle": "2022-04-17T02:58:26.950757Z",
     "shell.execute_reply": "2022-04-17T02:58:26.950058Z",
     "shell.execute_reply.started": "2022-04-16T09:38:13.265566Z"
    },
    "papermill": {
     "duration": 2.991129,
     "end_time": "2022-04-17T02:58:26.950893",
     "exception": false,
     "start_time": "2022-04-17T02:58:23.959764",
     "status": "completed"
    },
    "scrolled": true,
    "tags": []
   },
   "outputs": [
    {
     "data": {
      "text/html": [
       "        <script type=\"text/javascript\">\n",
       "        window.PlotlyConfig = {MathJaxConfig: 'local'};\n",
       "        if (window.MathJax) {MathJax.Hub.Config({SVG: {font: \"STIX-Web\"}});}\n",
       "        if (typeof require !== 'undefined') {\n",
       "        require.undef(\"plotly\");\n",
       "        requirejs.config({\n",
       "            paths: {\n",
       "                'plotly': ['https://cdn.plot.ly/plotly-2.9.0.min']\n",
       "            }\n",
       "        });\n",
       "        require(['plotly'], function(Plotly) {\n",
       "            window._Plotly = Plotly;\n",
       "        });\n",
       "        }\n",
       "        </script>\n",
       "        "
      ]
     },
     "metadata": {},
     "output_type": "display_data"
    },
    {
     "data": {
      "text/html": [
       "<div>                            <div id=\"582809e9-cd98-495f-8eda-d8b7c9e774d4\" class=\"plotly-graph-div\" style=\"height:525px; width:100%;\"></div>            <script type=\"text/javascript\">                require([\"plotly\"], function(Plotly) {                    window.PLOTLYENV=window.PLOTLYENV || {};                                    if (document.getElementById(\"582809e9-cd98-495f-8eda-d8b7c9e774d4\")) {                    Plotly.newPlot(                        \"582809e9-cd98-495f-8eda-d8b7c9e774d4\",                        [{\"alignmentgroup\":\"True\",\"customdata\":[[819],[421],[390],[372],[358],[263],[239],[238],[225],[219],[217],[204],[204],[187],[186]],\"hovertemplate\":\"<b>Count: </b>%{customdata[0]}\",\"legendgroup\":\"\",\"marker\":{\"color\":\"red\",\"coloraxis\":\"coloraxis\",\"pattern\":{\"shape\":\"\"}},\"name\":\"\",\"offsetgroup\":\"\",\"orientation\":\"v\",\"showlegend\":false,\"textposition\":\"auto\",\"x\":[\"bulli\",\"get\",\"go\",\"dont\",\"school\",\"one\",\"peopl\",\"think\",\"know\",\"make\",\"time\",\"would\",\"love\",\"need\",\"see\"],\"xaxis\":\"x\",\"y\":[819,421,390,372,358,263,239,238,225,219,217,204,204,187,186],\"yaxis\":\"y\",\"type\":\"bar\"}],                        {\"template\":{\"data\":{\"barpolar\":[{\"marker\":{\"line\":{\"color\":\"white\",\"width\":0.5},\"pattern\":{\"fillmode\":\"overlay\",\"size\":10,\"solidity\":0.2}},\"type\":\"barpolar\"}],\"bar\":[{\"error_x\":{\"color\":\"rgb(36,36,36)\"},\"error_y\":{\"color\":\"rgb(36,36,36)\"},\"marker\":{\"line\":{\"color\":\"white\",\"width\":0.5},\"pattern\":{\"fillmode\":\"overlay\",\"size\":10,\"solidity\":0.2}},\"type\":\"bar\"}],\"carpet\":[{\"aaxis\":{\"endlinecolor\":\"rgb(36,36,36)\",\"gridcolor\":\"white\",\"linecolor\":\"white\",\"minorgridcolor\":\"white\",\"startlinecolor\":\"rgb(36,36,36)\"},\"baxis\":{\"endlinecolor\":\"rgb(36,36,36)\",\"gridcolor\":\"white\",\"linecolor\":\"white\",\"minorgridcolor\":\"white\",\"startlinecolor\":\"rgb(36,36,36)\"},\"type\":\"carpet\"}],\"choropleth\":[{\"colorbar\":{\"outlinewidth\":1,\"tickcolor\":\"rgb(36,36,36)\",\"ticks\":\"outside\"},\"type\":\"choropleth\"}],\"contourcarpet\":[{\"colorbar\":{\"outlinewidth\":1,\"tickcolor\":\"rgb(36,36,36)\",\"ticks\":\"outside\"},\"type\":\"contourcarpet\"}],\"contour\":[{\"colorbar\":{\"outlinewidth\":1,\"tickcolor\":\"rgb(36,36,36)\",\"ticks\":\"outside\"},\"colorscale\":[[0.0,\"#440154\"],[0.1111111111111111,\"#482878\"],[0.2222222222222222,\"#3e4989\"],[0.3333333333333333,\"#31688e\"],[0.4444444444444444,\"#26828e\"],[0.5555555555555556,\"#1f9e89\"],[0.6666666666666666,\"#35b779\"],[0.7777777777777778,\"#6ece58\"],[0.8888888888888888,\"#b5de2b\"],[1.0,\"#fde725\"]],\"type\":\"contour\"}],\"heatmapgl\":[{\"colorbar\":{\"outlinewidth\":1,\"tickcolor\":\"rgb(36,36,36)\",\"ticks\":\"outside\"},\"colorscale\":[[0.0,\"#440154\"],[0.1111111111111111,\"#482878\"],[0.2222222222222222,\"#3e4989\"],[0.3333333333333333,\"#31688e\"],[0.4444444444444444,\"#26828e\"],[0.5555555555555556,\"#1f9e89\"],[0.6666666666666666,\"#35b779\"],[0.7777777777777778,\"#6ece58\"],[0.8888888888888888,\"#b5de2b\"],[1.0,\"#fde725\"]],\"type\":\"heatmapgl\"}],\"heatmap\":[{\"colorbar\":{\"outlinewidth\":1,\"tickcolor\":\"rgb(36,36,36)\",\"ticks\":\"outside\"},\"colorscale\":[[0.0,\"#440154\"],[0.1111111111111111,\"#482878\"],[0.2222222222222222,\"#3e4989\"],[0.3333333333333333,\"#31688e\"],[0.4444444444444444,\"#26828e\"],[0.5555555555555556,\"#1f9e89\"],[0.6666666666666666,\"#35b779\"],[0.7777777777777778,\"#6ece58\"],[0.8888888888888888,\"#b5de2b\"],[1.0,\"#fde725\"]],\"type\":\"heatmap\"}],\"histogram2dcontour\":[{\"colorbar\":{\"outlinewidth\":1,\"tickcolor\":\"rgb(36,36,36)\",\"ticks\":\"outside\"},\"colorscale\":[[0.0,\"#440154\"],[0.1111111111111111,\"#482878\"],[0.2222222222222222,\"#3e4989\"],[0.3333333333333333,\"#31688e\"],[0.4444444444444444,\"#26828e\"],[0.5555555555555556,\"#1f9e89\"],[0.6666666666666666,\"#35b779\"],[0.7777777777777778,\"#6ece58\"],[0.8888888888888888,\"#b5de2b\"],[1.0,\"#fde725\"]],\"type\":\"histogram2dcontour\"}],\"histogram2d\":[{\"colorbar\":{\"outlinewidth\":1,\"tickcolor\":\"rgb(36,36,36)\",\"ticks\":\"outside\"},\"colorscale\":[[0.0,\"#440154\"],[0.1111111111111111,\"#482878\"],[0.2222222222222222,\"#3e4989\"],[0.3333333333333333,\"#31688e\"],[0.4444444444444444,\"#26828e\"],[0.5555555555555556,\"#1f9e89\"],[0.6666666666666666,\"#35b779\"],[0.7777777777777778,\"#6ece58\"],[0.8888888888888888,\"#b5de2b\"],[1.0,\"#fde725\"]],\"type\":\"histogram2d\"}],\"histogram\":[{\"marker\":{\"line\":{\"color\":\"white\",\"width\":0.6}},\"type\":\"histogram\"}],\"mesh3d\":[{\"colorbar\":{\"outlinewidth\":1,\"tickcolor\":\"rgb(36,36,36)\",\"ticks\":\"outside\"},\"type\":\"mesh3d\"}],\"parcoords\":[{\"line\":{\"colorbar\":{\"outlinewidth\":1,\"tickcolor\":\"rgb(36,36,36)\",\"ticks\":\"outside\"}},\"type\":\"parcoords\"}],\"pie\":[{\"automargin\":true,\"type\":\"pie\"}],\"scatter3d\":[{\"line\":{\"colorbar\":{\"outlinewidth\":1,\"tickcolor\":\"rgb(36,36,36)\",\"ticks\":\"outside\"}},\"marker\":{\"colorbar\":{\"outlinewidth\":1,\"tickcolor\":\"rgb(36,36,36)\",\"ticks\":\"outside\"}},\"type\":\"scatter3d\"}],\"scattercarpet\":[{\"marker\":{\"colorbar\":{\"outlinewidth\":1,\"tickcolor\":\"rgb(36,36,36)\",\"ticks\":\"outside\"}},\"type\":\"scattercarpet\"}],\"scattergeo\":[{\"marker\":{\"colorbar\":{\"outlinewidth\":1,\"tickcolor\":\"rgb(36,36,36)\",\"ticks\":\"outside\"}},\"type\":\"scattergeo\"}],\"scattergl\":[{\"marker\":{\"colorbar\":{\"outlinewidth\":1,\"tickcolor\":\"rgb(36,36,36)\",\"ticks\":\"outside\"}},\"type\":\"scattergl\"}],\"scattermapbox\":[{\"marker\":{\"colorbar\":{\"outlinewidth\":1,\"tickcolor\":\"rgb(36,36,36)\",\"ticks\":\"outside\"}},\"type\":\"scattermapbox\"}],\"scatterpolargl\":[{\"marker\":{\"colorbar\":{\"outlinewidth\":1,\"tickcolor\":\"rgb(36,36,36)\",\"ticks\":\"outside\"}},\"type\":\"scatterpolargl\"}],\"scatterpolar\":[{\"marker\":{\"colorbar\":{\"outlinewidth\":1,\"tickcolor\":\"rgb(36,36,36)\",\"ticks\":\"outside\"}},\"type\":\"scatterpolar\"}],\"scatter\":[{\"marker\":{\"colorbar\":{\"outlinewidth\":1,\"tickcolor\":\"rgb(36,36,36)\",\"ticks\":\"outside\"}},\"type\":\"scatter\"}],\"scatterternary\":[{\"marker\":{\"colorbar\":{\"outlinewidth\":1,\"tickcolor\":\"rgb(36,36,36)\",\"ticks\":\"outside\"}},\"type\":\"scatterternary\"}],\"surface\":[{\"colorbar\":{\"outlinewidth\":1,\"tickcolor\":\"rgb(36,36,36)\",\"ticks\":\"outside\"},\"colorscale\":[[0.0,\"#440154\"],[0.1111111111111111,\"#482878\"],[0.2222222222222222,\"#3e4989\"],[0.3333333333333333,\"#31688e\"],[0.4444444444444444,\"#26828e\"],[0.5555555555555556,\"#1f9e89\"],[0.6666666666666666,\"#35b779\"],[0.7777777777777778,\"#6ece58\"],[0.8888888888888888,\"#b5de2b\"],[1.0,\"#fde725\"]],\"type\":\"surface\"}],\"table\":[{\"cells\":{\"fill\":{\"color\":\"rgb(237,237,237)\"},\"line\":{\"color\":\"white\"}},\"header\":{\"fill\":{\"color\":\"rgb(217,217,217)\"},\"line\":{\"color\":\"white\"}},\"type\":\"table\"}]},\"layout\":{\"annotationdefaults\":{\"arrowhead\":0,\"arrowwidth\":1},\"autotypenumbers\":\"strict\",\"coloraxis\":{\"colorbar\":{\"outlinewidth\":1,\"tickcolor\":\"rgb(36,36,36)\",\"ticks\":\"outside\"}},\"colorscale\":{\"diverging\":[[0.0,\"rgb(103,0,31)\"],[0.1,\"rgb(178,24,43)\"],[0.2,\"rgb(214,96,77)\"],[0.3,\"rgb(244,165,130)\"],[0.4,\"rgb(253,219,199)\"],[0.5,\"rgb(247,247,247)\"],[0.6,\"rgb(209,229,240)\"],[0.7,\"rgb(146,197,222)\"],[0.8,\"rgb(67,147,195)\"],[0.9,\"rgb(33,102,172)\"],[1.0,\"rgb(5,48,97)\"]],\"sequential\":[[0.0,\"#440154\"],[0.1111111111111111,\"#482878\"],[0.2222222222222222,\"#3e4989\"],[0.3333333333333333,\"#31688e\"],[0.4444444444444444,\"#26828e\"],[0.5555555555555556,\"#1f9e89\"],[0.6666666666666666,\"#35b779\"],[0.7777777777777778,\"#6ece58\"],[0.8888888888888888,\"#b5de2b\"],[1.0,\"#fde725\"]],\"sequentialminus\":[[0.0,\"#440154\"],[0.1111111111111111,\"#482878\"],[0.2222222222222222,\"#3e4989\"],[0.3333333333333333,\"#31688e\"],[0.4444444444444444,\"#26828e\"],[0.5555555555555556,\"#1f9e89\"],[0.6666666666666666,\"#35b779\"],[0.7777777777777778,\"#6ece58\"],[0.8888888888888888,\"#b5de2b\"],[1.0,\"#fde725\"]]},\"colorway\":[\"#1F77B4\",\"#FF7F0E\",\"#2CA02C\",\"#D62728\",\"#9467BD\",\"#8C564B\",\"#E377C2\",\"#7F7F7F\",\"#BCBD22\",\"#17BECF\"],\"font\":{\"color\":\"rgb(36,36,36)\"},\"geo\":{\"bgcolor\":\"white\",\"lakecolor\":\"white\",\"landcolor\":\"white\",\"showlakes\":true,\"showland\":true,\"subunitcolor\":\"white\"},\"hoverlabel\":{\"align\":\"left\"},\"hovermode\":\"closest\",\"mapbox\":{\"style\":\"light\"},\"paper_bgcolor\":\"white\",\"plot_bgcolor\":\"white\",\"polar\":{\"angularaxis\":{\"gridcolor\":\"rgb(232,232,232)\",\"linecolor\":\"rgb(36,36,36)\",\"showgrid\":false,\"showline\":true,\"ticks\":\"outside\"},\"bgcolor\":\"white\",\"radialaxis\":{\"gridcolor\":\"rgb(232,232,232)\",\"linecolor\":\"rgb(36,36,36)\",\"showgrid\":false,\"showline\":true,\"ticks\":\"outside\"}},\"scene\":{\"xaxis\":{\"backgroundcolor\":\"white\",\"gridcolor\":\"rgb(232,232,232)\",\"gridwidth\":2,\"linecolor\":\"rgb(36,36,36)\",\"showbackground\":true,\"showgrid\":false,\"showline\":true,\"ticks\":\"outside\",\"zeroline\":false,\"zerolinecolor\":\"rgb(36,36,36)\"},\"yaxis\":{\"backgroundcolor\":\"white\",\"gridcolor\":\"rgb(232,232,232)\",\"gridwidth\":2,\"linecolor\":\"rgb(36,36,36)\",\"showbackground\":true,\"showgrid\":false,\"showline\":true,\"ticks\":\"outside\",\"zeroline\":false,\"zerolinecolor\":\"rgb(36,36,36)\"},\"zaxis\":{\"backgroundcolor\":\"white\",\"gridcolor\":\"rgb(232,232,232)\",\"gridwidth\":2,\"linecolor\":\"rgb(36,36,36)\",\"showbackground\":true,\"showgrid\":false,\"showline\":true,\"ticks\":\"outside\",\"zeroline\":false,\"zerolinecolor\":\"rgb(36,36,36)\"}},\"shapedefaults\":{\"fillcolor\":\"black\",\"line\":{\"width\":0},\"opacity\":0.3},\"ternary\":{\"aaxis\":{\"gridcolor\":\"rgb(232,232,232)\",\"linecolor\":\"rgb(36,36,36)\",\"showgrid\":false,\"showline\":true,\"ticks\":\"outside\"},\"baxis\":{\"gridcolor\":\"rgb(232,232,232)\",\"linecolor\":\"rgb(36,36,36)\",\"showgrid\":false,\"showline\":true,\"ticks\":\"outside\"},\"bgcolor\":\"white\",\"caxis\":{\"gridcolor\":\"rgb(232,232,232)\",\"linecolor\":\"rgb(36,36,36)\",\"showgrid\":false,\"showline\":true,\"ticks\":\"outside\"}},\"title\":{\"x\":0.05},\"xaxis\":{\"automargin\":true,\"gridcolor\":\"rgb(232,232,232)\",\"linecolor\":\"rgb(36,36,36)\",\"showgrid\":false,\"showline\":true,\"ticks\":\"outside\",\"title\":{\"standoff\":15},\"zeroline\":false,\"zerolinecolor\":\"rgb(36,36,36)\"},\"yaxis\":{\"automargin\":true,\"gridcolor\":\"rgb(232,232,232)\",\"linecolor\":\"rgb(36,36,36)\",\"showgrid\":false,\"showline\":true,\"ticks\":\"outside\",\"title\":{\"standoff\":15},\"zeroline\":false,\"zerolinecolor\":\"rgb(36,36,36)\"}}},\"xaxis\":{\"anchor\":\"y\",\"domain\":[0.0,1.0],\"title\":{\"text\":\"index\"}},\"yaxis\":{\"anchor\":\"x\",\"domain\":[0.0,1.0],\"title\":{\"text\":\"value\"}},\"coloraxis\":{\"colorbar\":{\"title\":{\"text\":\"color\"}},\"colorscale\":[[0.0,\"rgb(255,247,243)\"],[0.125,\"rgb(253,224,221)\"],[0.25,\"rgb(252,197,192)\"],[0.375,\"rgb(250,159,181)\"],[0.5,\"rgb(247,104,161)\"],[0.625,\"rgb(221,52,151)\"],[0.75,\"rgb(174,1,126)\"],[0.875,\"rgb(122,1,119)\"],[1.0,\"rgb(73,0,106)\"]]},\"legend\":{\"tracegroupgap\":0},\"margin\":{\"t\":60},\"barmode\":\"relative\",\"title\":{\"text\":\"Top 15 words for not_cyberbullying\"},\"hovermode\":\"x unified\"},                        {\"responsive\": true}                    ).then(function(){\n",
       "                            \n",
       "var gd = document.getElementById('582809e9-cd98-495f-8eda-d8b7c9e774d4');\n",
       "var x = new MutationObserver(function (mutations, observer) {{\n",
       "        var display = window.getComputedStyle(gd).display;\n",
       "        if (!display || display === 'none') {{\n",
       "            console.log([gd, 'removed!']);\n",
       "            Plotly.purge(gd);\n",
       "            observer.disconnect();\n",
       "        }}\n",
       "}});\n",
       "\n",
       "// Listen for the removal of the full notebook cells\n",
       "var notebookContainer = gd.closest('#notebook-container');\n",
       "if (notebookContainer) {{\n",
       "    x.observe(notebookContainer, {childList: true});\n",
       "}}\n",
       "\n",
       "// Listen for the clearing of the current output cell\n",
       "var outputEl = gd.closest('.output');\n",
       "if (outputEl) {{\n",
       "    x.observe(outputEl, {childList: true});\n",
       "}}\n",
       "\n",
       "                        })                };                });            </script>        </div>"
      ]
     },
     "metadata": {},
     "output_type": "display_data"
    },
    {
     "data": {
      "text/html": [
       "<div>                            <div id=\"5f21d1c5-be4d-4175-a47e-25e0fa4fb4fc\" class=\"plotly-graph-div\" style=\"height:525px; width:100%;\"></div>            <script type=\"text/javascript\">                require([\"plotly\"], function(Plotly) {                    window.PLOTLYENV=window.PLOTLYENV || {};                                    if (document.getElementById(\"5f21d1c5-be4d-4175-a47e-25e0fa4fb4fc\")) {                    Plotly.newPlot(                        \"5f21d1c5-be4d-4175-a47e-25e0fa4fb4fc\",                        [{\"alignmentgroup\":\"True\",\"customdata\":[[3992],[3943],[3630],[1394],[1277],[1171],[968],[953],[945],[899],[889],[801],[605],[592],[579]],\"hovertemplate\":\"<b>Count: </b>%{customdata[0]}\",\"legendgroup\":\"\",\"marker\":{\"color\":\"red\",\"coloraxis\":\"coloraxis\",\"pattern\":{\"shape\":\"\"}},\"name\":\"\",\"offsetgroup\":\"\",\"orientation\":\"v\",\"showlegend\":false,\"textposition\":\"auto\",\"x\":[\"rape\",\"joke\",\"gay\",\"call\",\"make\",\"jokes\",\"bitch\",\"femal\",\"sexist\",\"dont\",\"women\",\"peopl\",\"men\",\"think\",\"say\"],\"xaxis\":\"x\",\"y\":[3992,3943,3630,1394,1277,1171,968,953,945,899,889,801,605,592,579],\"yaxis\":\"y\",\"type\":\"bar\"}],                        {\"template\":{\"data\":{\"barpolar\":[{\"marker\":{\"line\":{\"color\":\"white\",\"width\":0.5},\"pattern\":{\"fillmode\":\"overlay\",\"size\":10,\"solidity\":0.2}},\"type\":\"barpolar\"}],\"bar\":[{\"error_x\":{\"color\":\"rgb(36,36,36)\"},\"error_y\":{\"color\":\"rgb(36,36,36)\"},\"marker\":{\"line\":{\"color\":\"white\",\"width\":0.5},\"pattern\":{\"fillmode\":\"overlay\",\"size\":10,\"solidity\":0.2}},\"type\":\"bar\"}],\"carpet\":[{\"aaxis\":{\"endlinecolor\":\"rgb(36,36,36)\",\"gridcolor\":\"white\",\"linecolor\":\"white\",\"minorgridcolor\":\"white\",\"startlinecolor\":\"rgb(36,36,36)\"},\"baxis\":{\"endlinecolor\":\"rgb(36,36,36)\",\"gridcolor\":\"white\",\"linecolor\":\"white\",\"minorgridcolor\":\"white\",\"startlinecolor\":\"rgb(36,36,36)\"},\"type\":\"carpet\"}],\"choropleth\":[{\"colorbar\":{\"outlinewidth\":1,\"tickcolor\":\"rgb(36,36,36)\",\"ticks\":\"outside\"},\"type\":\"choropleth\"}],\"contourcarpet\":[{\"colorbar\":{\"outlinewidth\":1,\"tickcolor\":\"rgb(36,36,36)\",\"ticks\":\"outside\"},\"type\":\"contourcarpet\"}],\"contour\":[{\"colorbar\":{\"outlinewidth\":1,\"tickcolor\":\"rgb(36,36,36)\",\"ticks\":\"outside\"},\"colorscale\":[[0.0,\"#440154\"],[0.1111111111111111,\"#482878\"],[0.2222222222222222,\"#3e4989\"],[0.3333333333333333,\"#31688e\"],[0.4444444444444444,\"#26828e\"],[0.5555555555555556,\"#1f9e89\"],[0.6666666666666666,\"#35b779\"],[0.7777777777777778,\"#6ece58\"],[0.8888888888888888,\"#b5de2b\"],[1.0,\"#fde725\"]],\"type\":\"contour\"}],\"heatmapgl\":[{\"colorbar\":{\"outlinewidth\":1,\"tickcolor\":\"rgb(36,36,36)\",\"ticks\":\"outside\"},\"colorscale\":[[0.0,\"#440154\"],[0.1111111111111111,\"#482878\"],[0.2222222222222222,\"#3e4989\"],[0.3333333333333333,\"#31688e\"],[0.4444444444444444,\"#26828e\"],[0.5555555555555556,\"#1f9e89\"],[0.6666666666666666,\"#35b779\"],[0.7777777777777778,\"#6ece58\"],[0.8888888888888888,\"#b5de2b\"],[1.0,\"#fde725\"]],\"type\":\"heatmapgl\"}],\"heatmap\":[{\"colorbar\":{\"outlinewidth\":1,\"tickcolor\":\"rgb(36,36,36)\",\"ticks\":\"outside\"},\"colorscale\":[[0.0,\"#440154\"],[0.1111111111111111,\"#482878\"],[0.2222222222222222,\"#3e4989\"],[0.3333333333333333,\"#31688e\"],[0.4444444444444444,\"#26828e\"],[0.5555555555555556,\"#1f9e89\"],[0.6666666666666666,\"#35b779\"],[0.7777777777777778,\"#6ece58\"],[0.8888888888888888,\"#b5de2b\"],[1.0,\"#fde725\"]],\"type\":\"heatmap\"}],\"histogram2dcontour\":[{\"colorbar\":{\"outlinewidth\":1,\"tickcolor\":\"rgb(36,36,36)\",\"ticks\":\"outside\"},\"colorscale\":[[0.0,\"#440154\"],[0.1111111111111111,\"#482878\"],[0.2222222222222222,\"#3e4989\"],[0.3333333333333333,\"#31688e\"],[0.4444444444444444,\"#26828e\"],[0.5555555555555556,\"#1f9e89\"],[0.6666666666666666,\"#35b779\"],[0.7777777777777778,\"#6ece58\"],[0.8888888888888888,\"#b5de2b\"],[1.0,\"#fde725\"]],\"type\":\"histogram2dcontour\"}],\"histogram2d\":[{\"colorbar\":{\"outlinewidth\":1,\"tickcolor\":\"rgb(36,36,36)\",\"ticks\":\"outside\"},\"colorscale\":[[0.0,\"#440154\"],[0.1111111111111111,\"#482878\"],[0.2222222222222222,\"#3e4989\"],[0.3333333333333333,\"#31688e\"],[0.4444444444444444,\"#26828e\"],[0.5555555555555556,\"#1f9e89\"],[0.6666666666666666,\"#35b779\"],[0.7777777777777778,\"#6ece58\"],[0.8888888888888888,\"#b5de2b\"],[1.0,\"#fde725\"]],\"type\":\"histogram2d\"}],\"histogram\":[{\"marker\":{\"line\":{\"color\":\"white\",\"width\":0.6}},\"type\":\"histogram\"}],\"mesh3d\":[{\"colorbar\":{\"outlinewidth\":1,\"tickcolor\":\"rgb(36,36,36)\",\"ticks\":\"outside\"},\"type\":\"mesh3d\"}],\"parcoords\":[{\"line\":{\"colorbar\":{\"outlinewidth\":1,\"tickcolor\":\"rgb(36,36,36)\",\"ticks\":\"outside\"}},\"type\":\"parcoords\"}],\"pie\":[{\"automargin\":true,\"type\":\"pie\"}],\"scatter3d\":[{\"line\":{\"colorbar\":{\"outlinewidth\":1,\"tickcolor\":\"rgb(36,36,36)\",\"ticks\":\"outside\"}},\"marker\":{\"colorbar\":{\"outlinewidth\":1,\"tickcolor\":\"rgb(36,36,36)\",\"ticks\":\"outside\"}},\"type\":\"scatter3d\"}],\"scattercarpet\":[{\"marker\":{\"colorbar\":{\"outlinewidth\":1,\"tickcolor\":\"rgb(36,36,36)\",\"ticks\":\"outside\"}},\"type\":\"scattercarpet\"}],\"scattergeo\":[{\"marker\":{\"colorbar\":{\"outlinewidth\":1,\"tickcolor\":\"rgb(36,36,36)\",\"ticks\":\"outside\"}},\"type\":\"scattergeo\"}],\"scattergl\":[{\"marker\":{\"colorbar\":{\"outlinewidth\":1,\"tickcolor\":\"rgb(36,36,36)\",\"ticks\":\"outside\"}},\"type\":\"scattergl\"}],\"scattermapbox\":[{\"marker\":{\"colorbar\":{\"outlinewidth\":1,\"tickcolor\":\"rgb(36,36,36)\",\"ticks\":\"outside\"}},\"type\":\"scattermapbox\"}],\"scatterpolargl\":[{\"marker\":{\"colorbar\":{\"outlinewidth\":1,\"tickcolor\":\"rgb(36,36,36)\",\"ticks\":\"outside\"}},\"type\":\"scatterpolargl\"}],\"scatterpolar\":[{\"marker\":{\"colorbar\":{\"outlinewidth\":1,\"tickcolor\":\"rgb(36,36,36)\",\"ticks\":\"outside\"}},\"type\":\"scatterpolar\"}],\"scatter\":[{\"marker\":{\"colorbar\":{\"outlinewidth\":1,\"tickcolor\":\"rgb(36,36,36)\",\"ticks\":\"outside\"}},\"type\":\"scatter\"}],\"scatterternary\":[{\"marker\":{\"colorbar\":{\"outlinewidth\":1,\"tickcolor\":\"rgb(36,36,36)\",\"ticks\":\"outside\"}},\"type\":\"scatterternary\"}],\"surface\":[{\"colorbar\":{\"outlinewidth\":1,\"tickcolor\":\"rgb(36,36,36)\",\"ticks\":\"outside\"},\"colorscale\":[[0.0,\"#440154\"],[0.1111111111111111,\"#482878\"],[0.2222222222222222,\"#3e4989\"],[0.3333333333333333,\"#31688e\"],[0.4444444444444444,\"#26828e\"],[0.5555555555555556,\"#1f9e89\"],[0.6666666666666666,\"#35b779\"],[0.7777777777777778,\"#6ece58\"],[0.8888888888888888,\"#b5de2b\"],[1.0,\"#fde725\"]],\"type\":\"surface\"}],\"table\":[{\"cells\":{\"fill\":{\"color\":\"rgb(237,237,237)\"},\"line\":{\"color\":\"white\"}},\"header\":{\"fill\":{\"color\":\"rgb(217,217,217)\"},\"line\":{\"color\":\"white\"}},\"type\":\"table\"}]},\"layout\":{\"annotationdefaults\":{\"arrowhead\":0,\"arrowwidth\":1},\"autotypenumbers\":\"strict\",\"coloraxis\":{\"colorbar\":{\"outlinewidth\":1,\"tickcolor\":\"rgb(36,36,36)\",\"ticks\":\"outside\"}},\"colorscale\":{\"diverging\":[[0.0,\"rgb(103,0,31)\"],[0.1,\"rgb(178,24,43)\"],[0.2,\"rgb(214,96,77)\"],[0.3,\"rgb(244,165,130)\"],[0.4,\"rgb(253,219,199)\"],[0.5,\"rgb(247,247,247)\"],[0.6,\"rgb(209,229,240)\"],[0.7,\"rgb(146,197,222)\"],[0.8,\"rgb(67,147,195)\"],[0.9,\"rgb(33,102,172)\"],[1.0,\"rgb(5,48,97)\"]],\"sequential\":[[0.0,\"#440154\"],[0.1111111111111111,\"#482878\"],[0.2222222222222222,\"#3e4989\"],[0.3333333333333333,\"#31688e\"],[0.4444444444444444,\"#26828e\"],[0.5555555555555556,\"#1f9e89\"],[0.6666666666666666,\"#35b779\"],[0.7777777777777778,\"#6ece58\"],[0.8888888888888888,\"#b5de2b\"],[1.0,\"#fde725\"]],\"sequentialminus\":[[0.0,\"#440154\"],[0.1111111111111111,\"#482878\"],[0.2222222222222222,\"#3e4989\"],[0.3333333333333333,\"#31688e\"],[0.4444444444444444,\"#26828e\"],[0.5555555555555556,\"#1f9e89\"],[0.6666666666666666,\"#35b779\"],[0.7777777777777778,\"#6ece58\"],[0.8888888888888888,\"#b5de2b\"],[1.0,\"#fde725\"]]},\"colorway\":[\"#1F77B4\",\"#FF7F0E\",\"#2CA02C\",\"#D62728\",\"#9467BD\",\"#8C564B\",\"#E377C2\",\"#7F7F7F\",\"#BCBD22\",\"#17BECF\"],\"font\":{\"color\":\"rgb(36,36,36)\"},\"geo\":{\"bgcolor\":\"white\",\"lakecolor\":\"white\",\"landcolor\":\"white\",\"showlakes\":true,\"showland\":true,\"subunitcolor\":\"white\"},\"hoverlabel\":{\"align\":\"left\"},\"hovermode\":\"closest\",\"mapbox\":{\"style\":\"light\"},\"paper_bgcolor\":\"white\",\"plot_bgcolor\":\"white\",\"polar\":{\"angularaxis\":{\"gridcolor\":\"rgb(232,232,232)\",\"linecolor\":\"rgb(36,36,36)\",\"showgrid\":false,\"showline\":true,\"ticks\":\"outside\"},\"bgcolor\":\"white\",\"radialaxis\":{\"gridcolor\":\"rgb(232,232,232)\",\"linecolor\":\"rgb(36,36,36)\",\"showgrid\":false,\"showline\":true,\"ticks\":\"outside\"}},\"scene\":{\"xaxis\":{\"backgroundcolor\":\"white\",\"gridcolor\":\"rgb(232,232,232)\",\"gridwidth\":2,\"linecolor\":\"rgb(36,36,36)\",\"showbackground\":true,\"showgrid\":false,\"showline\":true,\"ticks\":\"outside\",\"zeroline\":false,\"zerolinecolor\":\"rgb(36,36,36)\"},\"yaxis\":{\"backgroundcolor\":\"white\",\"gridcolor\":\"rgb(232,232,232)\",\"gridwidth\":2,\"linecolor\":\"rgb(36,36,36)\",\"showbackground\":true,\"showgrid\":false,\"showline\":true,\"ticks\":\"outside\",\"zeroline\":false,\"zerolinecolor\":\"rgb(36,36,36)\"},\"zaxis\":{\"backgroundcolor\":\"white\",\"gridcolor\":\"rgb(232,232,232)\",\"gridwidth\":2,\"linecolor\":\"rgb(36,36,36)\",\"showbackground\":true,\"showgrid\":false,\"showline\":true,\"ticks\":\"outside\",\"zeroline\":false,\"zerolinecolor\":\"rgb(36,36,36)\"}},\"shapedefaults\":{\"fillcolor\":\"black\",\"line\":{\"width\":0},\"opacity\":0.3},\"ternary\":{\"aaxis\":{\"gridcolor\":\"rgb(232,232,232)\",\"linecolor\":\"rgb(36,36,36)\",\"showgrid\":false,\"showline\":true,\"ticks\":\"outside\"},\"baxis\":{\"gridcolor\":\"rgb(232,232,232)\",\"linecolor\":\"rgb(36,36,36)\",\"showgrid\":false,\"showline\":true,\"ticks\":\"outside\"},\"bgcolor\":\"white\",\"caxis\":{\"gridcolor\":\"rgb(232,232,232)\",\"linecolor\":\"rgb(36,36,36)\",\"showgrid\":false,\"showline\":true,\"ticks\":\"outside\"}},\"title\":{\"x\":0.05},\"xaxis\":{\"automargin\":true,\"gridcolor\":\"rgb(232,232,232)\",\"linecolor\":\"rgb(36,36,36)\",\"showgrid\":false,\"showline\":true,\"ticks\":\"outside\",\"title\":{\"standoff\":15},\"zeroline\":false,\"zerolinecolor\":\"rgb(36,36,36)\"},\"yaxis\":{\"automargin\":true,\"gridcolor\":\"rgb(232,232,232)\",\"linecolor\":\"rgb(36,36,36)\",\"showgrid\":false,\"showline\":true,\"ticks\":\"outside\",\"title\":{\"standoff\":15},\"zeroline\":false,\"zerolinecolor\":\"rgb(36,36,36)\"}}},\"xaxis\":{\"anchor\":\"y\",\"domain\":[0.0,1.0],\"title\":{\"text\":\"index\"}},\"yaxis\":{\"anchor\":\"x\",\"domain\":[0.0,1.0],\"title\":{\"text\":\"value\"}},\"coloraxis\":{\"colorbar\":{\"title\":{\"text\":\"color\"}},\"colorscale\":[[0.0,\"rgb(255,247,243)\"],[0.125,\"rgb(253,224,221)\"],[0.25,\"rgb(252,197,192)\"],[0.375,\"rgb(250,159,181)\"],[0.5,\"rgb(247,104,161)\"],[0.625,\"rgb(221,52,151)\"],[0.75,\"rgb(174,1,126)\"],[0.875,\"rgb(122,1,119)\"],[1.0,\"rgb(73,0,106)\"]]},\"legend\":{\"tracegroupgap\":0},\"margin\":{\"t\":60},\"barmode\":\"relative\",\"title\":{\"text\":\"Top 15 words for gender\"},\"hovermode\":\"x unified\"},                        {\"responsive\": true}                    ).then(function(){\n",
       "                            \n",
       "var gd = document.getElementById('5f21d1c5-be4d-4175-a47e-25e0fa4fb4fc');\n",
       "var x = new MutationObserver(function (mutations, observer) {{\n",
       "        var display = window.getComputedStyle(gd).display;\n",
       "        if (!display || display === 'none') {{\n",
       "            console.log([gd, 'removed!']);\n",
       "            Plotly.purge(gd);\n",
       "            observer.disconnect();\n",
       "        }}\n",
       "}});\n",
       "\n",
       "// Listen for the removal of the full notebook cells\n",
       "var notebookContainer = gd.closest('#notebook-container');\n",
       "if (notebookContainer) {{\n",
       "    x.observe(notebookContainer, {childList: true});\n",
       "}}\n",
       "\n",
       "// Listen for the clearing of the current output cell\n",
       "var outputEl = gd.closest('.output');\n",
       "if (outputEl) {{\n",
       "    x.observe(outputEl, {childList: true});\n",
       "}}\n",
       "\n",
       "                        })                };                });            </script>        </div>"
      ]
     },
     "metadata": {},
     "output_type": "display_data"
    },
    {
     "data": {
      "text/html": [
       "<div>                            <div id=\"a78b78e0-7aec-4170-9a8f-60afba314d85\" class=\"plotly-graph-div\" style=\"height:525px; width:100%;\"></div>            <script type=\"text/javascript\">                require([\"plotly\"], function(Plotly) {                    window.PLOTLYENV=window.PLOTLYENV || {};                                    if (document.getElementById(\"a78b78e0-7aec-4170-9a8f-60afba314d85\")) {                    Plotly.newPlot(                        \"a78b78e0-7aec-4170-9a8f-60afba314d85\",                        [{\"alignmentgroup\":\"True\",\"customdata\":[[4082],[2732],[2281],[1893],[1227],[1218],[1188],[1179],[1017],[939],[912],[827],[790],[758],[672]],\"hovertemplate\":\"<b>Count: </b>%{customdata[0]}\",\"legendgroup\":\"\",\"marker\":{\"color\":\"red\",\"coloraxis\":\"coloraxis\",\"pattern\":{\"shape\":\"\"}},\"name\":\"\",\"offsetgroup\":\"\",\"orientation\":\"v\",\"showlegend\":false,\"textposition\":\"auto\",\"x\":[\"muslim\",\"idiot\",\"islam\",\"christian\",\"support\",\"right\",\"dont\",\"terrorist\",\"radic\",\"peopl\",\"woman\",\"terror\",\"say\",\"know\",\"whi\"],\"xaxis\":\"x\",\"y\":[4082,2732,2281,1893,1227,1218,1188,1179,1017,939,912,827,790,758,672],\"yaxis\":\"y\",\"type\":\"bar\"}],                        {\"template\":{\"data\":{\"barpolar\":[{\"marker\":{\"line\":{\"color\":\"white\",\"width\":0.5},\"pattern\":{\"fillmode\":\"overlay\",\"size\":10,\"solidity\":0.2}},\"type\":\"barpolar\"}],\"bar\":[{\"error_x\":{\"color\":\"rgb(36,36,36)\"},\"error_y\":{\"color\":\"rgb(36,36,36)\"},\"marker\":{\"line\":{\"color\":\"white\",\"width\":0.5},\"pattern\":{\"fillmode\":\"overlay\",\"size\":10,\"solidity\":0.2}},\"type\":\"bar\"}],\"carpet\":[{\"aaxis\":{\"endlinecolor\":\"rgb(36,36,36)\",\"gridcolor\":\"white\",\"linecolor\":\"white\",\"minorgridcolor\":\"white\",\"startlinecolor\":\"rgb(36,36,36)\"},\"baxis\":{\"endlinecolor\":\"rgb(36,36,36)\",\"gridcolor\":\"white\",\"linecolor\":\"white\",\"minorgridcolor\":\"white\",\"startlinecolor\":\"rgb(36,36,36)\"},\"type\":\"carpet\"}],\"choropleth\":[{\"colorbar\":{\"outlinewidth\":1,\"tickcolor\":\"rgb(36,36,36)\",\"ticks\":\"outside\"},\"type\":\"choropleth\"}],\"contourcarpet\":[{\"colorbar\":{\"outlinewidth\":1,\"tickcolor\":\"rgb(36,36,36)\",\"ticks\":\"outside\"},\"type\":\"contourcarpet\"}],\"contour\":[{\"colorbar\":{\"outlinewidth\":1,\"tickcolor\":\"rgb(36,36,36)\",\"ticks\":\"outside\"},\"colorscale\":[[0.0,\"#440154\"],[0.1111111111111111,\"#482878\"],[0.2222222222222222,\"#3e4989\"],[0.3333333333333333,\"#31688e\"],[0.4444444444444444,\"#26828e\"],[0.5555555555555556,\"#1f9e89\"],[0.6666666666666666,\"#35b779\"],[0.7777777777777778,\"#6ece58\"],[0.8888888888888888,\"#b5de2b\"],[1.0,\"#fde725\"]],\"type\":\"contour\"}],\"heatmapgl\":[{\"colorbar\":{\"outlinewidth\":1,\"tickcolor\":\"rgb(36,36,36)\",\"ticks\":\"outside\"},\"colorscale\":[[0.0,\"#440154\"],[0.1111111111111111,\"#482878\"],[0.2222222222222222,\"#3e4989\"],[0.3333333333333333,\"#31688e\"],[0.4444444444444444,\"#26828e\"],[0.5555555555555556,\"#1f9e89\"],[0.6666666666666666,\"#35b779\"],[0.7777777777777778,\"#6ece58\"],[0.8888888888888888,\"#b5de2b\"],[1.0,\"#fde725\"]],\"type\":\"heatmapgl\"}],\"heatmap\":[{\"colorbar\":{\"outlinewidth\":1,\"tickcolor\":\"rgb(36,36,36)\",\"ticks\":\"outside\"},\"colorscale\":[[0.0,\"#440154\"],[0.1111111111111111,\"#482878\"],[0.2222222222222222,\"#3e4989\"],[0.3333333333333333,\"#31688e\"],[0.4444444444444444,\"#26828e\"],[0.5555555555555556,\"#1f9e89\"],[0.6666666666666666,\"#35b779\"],[0.7777777777777778,\"#6ece58\"],[0.8888888888888888,\"#b5de2b\"],[1.0,\"#fde725\"]],\"type\":\"heatmap\"}],\"histogram2dcontour\":[{\"colorbar\":{\"outlinewidth\":1,\"tickcolor\":\"rgb(36,36,36)\",\"ticks\":\"outside\"},\"colorscale\":[[0.0,\"#440154\"],[0.1111111111111111,\"#482878\"],[0.2222222222222222,\"#3e4989\"],[0.3333333333333333,\"#31688e\"],[0.4444444444444444,\"#26828e\"],[0.5555555555555556,\"#1f9e89\"],[0.6666666666666666,\"#35b779\"],[0.7777777777777778,\"#6ece58\"],[0.8888888888888888,\"#b5de2b\"],[1.0,\"#fde725\"]],\"type\":\"histogram2dcontour\"}],\"histogram2d\":[{\"colorbar\":{\"outlinewidth\":1,\"tickcolor\":\"rgb(36,36,36)\",\"ticks\":\"outside\"},\"colorscale\":[[0.0,\"#440154\"],[0.1111111111111111,\"#482878\"],[0.2222222222222222,\"#3e4989\"],[0.3333333333333333,\"#31688e\"],[0.4444444444444444,\"#26828e\"],[0.5555555555555556,\"#1f9e89\"],[0.6666666666666666,\"#35b779\"],[0.7777777777777778,\"#6ece58\"],[0.8888888888888888,\"#b5de2b\"],[1.0,\"#fde725\"]],\"type\":\"histogram2d\"}],\"histogram\":[{\"marker\":{\"line\":{\"color\":\"white\",\"width\":0.6}},\"type\":\"histogram\"}],\"mesh3d\":[{\"colorbar\":{\"outlinewidth\":1,\"tickcolor\":\"rgb(36,36,36)\",\"ticks\":\"outside\"},\"type\":\"mesh3d\"}],\"parcoords\":[{\"line\":{\"colorbar\":{\"outlinewidth\":1,\"tickcolor\":\"rgb(36,36,36)\",\"ticks\":\"outside\"}},\"type\":\"parcoords\"}],\"pie\":[{\"automargin\":true,\"type\":\"pie\"}],\"scatter3d\":[{\"line\":{\"colorbar\":{\"outlinewidth\":1,\"tickcolor\":\"rgb(36,36,36)\",\"ticks\":\"outside\"}},\"marker\":{\"colorbar\":{\"outlinewidth\":1,\"tickcolor\":\"rgb(36,36,36)\",\"ticks\":\"outside\"}},\"type\":\"scatter3d\"}],\"scattercarpet\":[{\"marker\":{\"colorbar\":{\"outlinewidth\":1,\"tickcolor\":\"rgb(36,36,36)\",\"ticks\":\"outside\"}},\"type\":\"scattercarpet\"}],\"scattergeo\":[{\"marker\":{\"colorbar\":{\"outlinewidth\":1,\"tickcolor\":\"rgb(36,36,36)\",\"ticks\":\"outside\"}},\"type\":\"scattergeo\"}],\"scattergl\":[{\"marker\":{\"colorbar\":{\"outlinewidth\":1,\"tickcolor\":\"rgb(36,36,36)\",\"ticks\":\"outside\"}},\"type\":\"scattergl\"}],\"scattermapbox\":[{\"marker\":{\"colorbar\":{\"outlinewidth\":1,\"tickcolor\":\"rgb(36,36,36)\",\"ticks\":\"outside\"}},\"type\":\"scattermapbox\"}],\"scatterpolargl\":[{\"marker\":{\"colorbar\":{\"outlinewidth\":1,\"tickcolor\":\"rgb(36,36,36)\",\"ticks\":\"outside\"}},\"type\":\"scatterpolargl\"}],\"scatterpolar\":[{\"marker\":{\"colorbar\":{\"outlinewidth\":1,\"tickcolor\":\"rgb(36,36,36)\",\"ticks\":\"outside\"}},\"type\":\"scatterpolar\"}],\"scatter\":[{\"marker\":{\"colorbar\":{\"outlinewidth\":1,\"tickcolor\":\"rgb(36,36,36)\",\"ticks\":\"outside\"}},\"type\":\"scatter\"}],\"scatterternary\":[{\"marker\":{\"colorbar\":{\"outlinewidth\":1,\"tickcolor\":\"rgb(36,36,36)\",\"ticks\":\"outside\"}},\"type\":\"scatterternary\"}],\"surface\":[{\"colorbar\":{\"outlinewidth\":1,\"tickcolor\":\"rgb(36,36,36)\",\"ticks\":\"outside\"},\"colorscale\":[[0.0,\"#440154\"],[0.1111111111111111,\"#482878\"],[0.2222222222222222,\"#3e4989\"],[0.3333333333333333,\"#31688e\"],[0.4444444444444444,\"#26828e\"],[0.5555555555555556,\"#1f9e89\"],[0.6666666666666666,\"#35b779\"],[0.7777777777777778,\"#6ece58\"],[0.8888888888888888,\"#b5de2b\"],[1.0,\"#fde725\"]],\"type\":\"surface\"}],\"table\":[{\"cells\":{\"fill\":{\"color\":\"rgb(237,237,237)\"},\"line\":{\"color\":\"white\"}},\"header\":{\"fill\":{\"color\":\"rgb(217,217,217)\"},\"line\":{\"color\":\"white\"}},\"type\":\"table\"}]},\"layout\":{\"annotationdefaults\":{\"arrowhead\":0,\"arrowwidth\":1},\"autotypenumbers\":\"strict\",\"coloraxis\":{\"colorbar\":{\"outlinewidth\":1,\"tickcolor\":\"rgb(36,36,36)\",\"ticks\":\"outside\"}},\"colorscale\":{\"diverging\":[[0.0,\"rgb(103,0,31)\"],[0.1,\"rgb(178,24,43)\"],[0.2,\"rgb(214,96,77)\"],[0.3,\"rgb(244,165,130)\"],[0.4,\"rgb(253,219,199)\"],[0.5,\"rgb(247,247,247)\"],[0.6,\"rgb(209,229,240)\"],[0.7,\"rgb(146,197,222)\"],[0.8,\"rgb(67,147,195)\"],[0.9,\"rgb(33,102,172)\"],[1.0,\"rgb(5,48,97)\"]],\"sequential\":[[0.0,\"#440154\"],[0.1111111111111111,\"#482878\"],[0.2222222222222222,\"#3e4989\"],[0.3333333333333333,\"#31688e\"],[0.4444444444444444,\"#26828e\"],[0.5555555555555556,\"#1f9e89\"],[0.6666666666666666,\"#35b779\"],[0.7777777777777778,\"#6ece58\"],[0.8888888888888888,\"#b5de2b\"],[1.0,\"#fde725\"]],\"sequentialminus\":[[0.0,\"#440154\"],[0.1111111111111111,\"#482878\"],[0.2222222222222222,\"#3e4989\"],[0.3333333333333333,\"#31688e\"],[0.4444444444444444,\"#26828e\"],[0.5555555555555556,\"#1f9e89\"],[0.6666666666666666,\"#35b779\"],[0.7777777777777778,\"#6ece58\"],[0.8888888888888888,\"#b5de2b\"],[1.0,\"#fde725\"]]},\"colorway\":[\"#1F77B4\",\"#FF7F0E\",\"#2CA02C\",\"#D62728\",\"#9467BD\",\"#8C564B\",\"#E377C2\",\"#7F7F7F\",\"#BCBD22\",\"#17BECF\"],\"font\":{\"color\":\"rgb(36,36,36)\"},\"geo\":{\"bgcolor\":\"white\",\"lakecolor\":\"white\",\"landcolor\":\"white\",\"showlakes\":true,\"showland\":true,\"subunitcolor\":\"white\"},\"hoverlabel\":{\"align\":\"left\"},\"hovermode\":\"closest\",\"mapbox\":{\"style\":\"light\"},\"paper_bgcolor\":\"white\",\"plot_bgcolor\":\"white\",\"polar\":{\"angularaxis\":{\"gridcolor\":\"rgb(232,232,232)\",\"linecolor\":\"rgb(36,36,36)\",\"showgrid\":false,\"showline\":true,\"ticks\":\"outside\"},\"bgcolor\":\"white\",\"radialaxis\":{\"gridcolor\":\"rgb(232,232,232)\",\"linecolor\":\"rgb(36,36,36)\",\"showgrid\":false,\"showline\":true,\"ticks\":\"outside\"}},\"scene\":{\"xaxis\":{\"backgroundcolor\":\"white\",\"gridcolor\":\"rgb(232,232,232)\",\"gridwidth\":2,\"linecolor\":\"rgb(36,36,36)\",\"showbackground\":true,\"showgrid\":false,\"showline\":true,\"ticks\":\"outside\",\"zeroline\":false,\"zerolinecolor\":\"rgb(36,36,36)\"},\"yaxis\":{\"backgroundcolor\":\"white\",\"gridcolor\":\"rgb(232,232,232)\",\"gridwidth\":2,\"linecolor\":\"rgb(36,36,36)\",\"showbackground\":true,\"showgrid\":false,\"showline\":true,\"ticks\":\"outside\",\"zeroline\":false,\"zerolinecolor\":\"rgb(36,36,36)\"},\"zaxis\":{\"backgroundcolor\":\"white\",\"gridcolor\":\"rgb(232,232,232)\",\"gridwidth\":2,\"linecolor\":\"rgb(36,36,36)\",\"showbackground\":true,\"showgrid\":false,\"showline\":true,\"ticks\":\"outside\",\"zeroline\":false,\"zerolinecolor\":\"rgb(36,36,36)\"}},\"shapedefaults\":{\"fillcolor\":\"black\",\"line\":{\"width\":0},\"opacity\":0.3},\"ternary\":{\"aaxis\":{\"gridcolor\":\"rgb(232,232,232)\",\"linecolor\":\"rgb(36,36,36)\",\"showgrid\":false,\"showline\":true,\"ticks\":\"outside\"},\"baxis\":{\"gridcolor\":\"rgb(232,232,232)\",\"linecolor\":\"rgb(36,36,36)\",\"showgrid\":false,\"showline\":true,\"ticks\":\"outside\"},\"bgcolor\":\"white\",\"caxis\":{\"gridcolor\":\"rgb(232,232,232)\",\"linecolor\":\"rgb(36,36,36)\",\"showgrid\":false,\"showline\":true,\"ticks\":\"outside\"}},\"title\":{\"x\":0.05},\"xaxis\":{\"automargin\":true,\"gridcolor\":\"rgb(232,232,232)\",\"linecolor\":\"rgb(36,36,36)\",\"showgrid\":false,\"showline\":true,\"ticks\":\"outside\",\"title\":{\"standoff\":15},\"zeroline\":false,\"zerolinecolor\":\"rgb(36,36,36)\"},\"yaxis\":{\"automargin\":true,\"gridcolor\":\"rgb(232,232,232)\",\"linecolor\":\"rgb(36,36,36)\",\"showgrid\":false,\"showline\":true,\"ticks\":\"outside\",\"title\":{\"standoff\":15},\"zeroline\":false,\"zerolinecolor\":\"rgb(36,36,36)\"}}},\"xaxis\":{\"anchor\":\"y\",\"domain\":[0.0,1.0],\"title\":{\"text\":\"index\"}},\"yaxis\":{\"anchor\":\"x\",\"domain\":[0.0,1.0],\"title\":{\"text\":\"value\"}},\"coloraxis\":{\"colorbar\":{\"title\":{\"text\":\"color\"}},\"colorscale\":[[0.0,\"rgb(255,247,243)\"],[0.125,\"rgb(253,224,221)\"],[0.25,\"rgb(252,197,192)\"],[0.375,\"rgb(250,159,181)\"],[0.5,\"rgb(247,104,161)\"],[0.625,\"rgb(221,52,151)\"],[0.75,\"rgb(174,1,126)\"],[0.875,\"rgb(122,1,119)\"],[1.0,\"rgb(73,0,106)\"]]},\"legend\":{\"tracegroupgap\":0},\"margin\":{\"t\":60},\"barmode\":\"relative\",\"title\":{\"text\":\"Top 15 words for religion\"},\"hovermode\":\"x unified\"},                        {\"responsive\": true}                    ).then(function(){\n",
       "                            \n",
       "var gd = document.getElementById('a78b78e0-7aec-4170-9a8f-60afba314d85');\n",
       "var x = new MutationObserver(function (mutations, observer) {{\n",
       "        var display = window.getComputedStyle(gd).display;\n",
       "        if (!display || display === 'none') {{\n",
       "            console.log([gd, 'removed!']);\n",
       "            Plotly.purge(gd);\n",
       "            observer.disconnect();\n",
       "        }}\n",
       "}});\n",
       "\n",
       "// Listen for the removal of the full notebook cells\n",
       "var notebookContainer = gd.closest('#notebook-container');\n",
       "if (notebookContainer) {{\n",
       "    x.observe(notebookContainer, {childList: true});\n",
       "}}\n",
       "\n",
       "// Listen for the clearing of the current output cell\n",
       "var outputEl = gd.closest('.output');\n",
       "if (outputEl) {{\n",
       "    x.observe(outputEl, {childList: true});\n",
       "}}\n",
       "\n",
       "                        })                };                });            </script>        </div>"
      ]
     },
     "metadata": {},
     "output_type": "display_data"
    },
    {
     "data": {
      "text/html": [
       "<div>                            <div id=\"c7fc3d69-f735-478d-9167-e79f43830dd2\" class=\"plotly-graph-div\" style=\"height:525px; width:100%;\"></div>            <script type=\"text/javascript\">                require([\"plotly\"], function(Plotly) {                    window.PLOTLYENV=window.PLOTLYENV || {};                                    if (document.getElementById(\"c7fc3d69-f735-478d-9167-e79f43830dd2\")) {                    Plotly.newPlot(                        \"c7fc3d69-f735-478d-9167-e79f43830dd2\",                        [{\"alignmentgroup\":\"True\",\"customdata\":[[8312],[7817],[4858],[4393],[1047],[1028],[846],[840],[814],[725],[709],[635],[625],[545],[544]],\"hovertemplate\":\"<b>Count: </b>%{customdata[0]}\",\"legendgroup\":\"\",\"marker\":{\"color\":\"red\",\"coloraxis\":\"coloraxis\",\"pattern\":{\"shape\":\"\"}},\"name\":\"\",\"offsetgroup\":\"\",\"orientation\":\"v\",\"showlegend\":false,\"textposition\":\"auto\",\"x\":[\"school\",\"bulli\",\"high\",\"girl\",\"get\",\"one\",\"becaus\",\"peopl\",\"got\",\"kid\",\"middl\",\"would\",\"dont\",\"go\",\"friend\"],\"xaxis\":\"x\",\"y\":[8312,7817,4858,4393,1047,1028,846,840,814,725,709,635,625,545,544],\"yaxis\":\"y\",\"type\":\"bar\"}],                        {\"template\":{\"data\":{\"barpolar\":[{\"marker\":{\"line\":{\"color\":\"white\",\"width\":0.5},\"pattern\":{\"fillmode\":\"overlay\",\"size\":10,\"solidity\":0.2}},\"type\":\"barpolar\"}],\"bar\":[{\"error_x\":{\"color\":\"rgb(36,36,36)\"},\"error_y\":{\"color\":\"rgb(36,36,36)\"},\"marker\":{\"line\":{\"color\":\"white\",\"width\":0.5},\"pattern\":{\"fillmode\":\"overlay\",\"size\":10,\"solidity\":0.2}},\"type\":\"bar\"}],\"carpet\":[{\"aaxis\":{\"endlinecolor\":\"rgb(36,36,36)\",\"gridcolor\":\"white\",\"linecolor\":\"white\",\"minorgridcolor\":\"white\",\"startlinecolor\":\"rgb(36,36,36)\"},\"baxis\":{\"endlinecolor\":\"rgb(36,36,36)\",\"gridcolor\":\"white\",\"linecolor\":\"white\",\"minorgridcolor\":\"white\",\"startlinecolor\":\"rgb(36,36,36)\"},\"type\":\"carpet\"}],\"choropleth\":[{\"colorbar\":{\"outlinewidth\":1,\"tickcolor\":\"rgb(36,36,36)\",\"ticks\":\"outside\"},\"type\":\"choropleth\"}],\"contourcarpet\":[{\"colorbar\":{\"outlinewidth\":1,\"tickcolor\":\"rgb(36,36,36)\",\"ticks\":\"outside\"},\"type\":\"contourcarpet\"}],\"contour\":[{\"colorbar\":{\"outlinewidth\":1,\"tickcolor\":\"rgb(36,36,36)\",\"ticks\":\"outside\"},\"colorscale\":[[0.0,\"#440154\"],[0.1111111111111111,\"#482878\"],[0.2222222222222222,\"#3e4989\"],[0.3333333333333333,\"#31688e\"],[0.4444444444444444,\"#26828e\"],[0.5555555555555556,\"#1f9e89\"],[0.6666666666666666,\"#35b779\"],[0.7777777777777778,\"#6ece58\"],[0.8888888888888888,\"#b5de2b\"],[1.0,\"#fde725\"]],\"type\":\"contour\"}],\"heatmapgl\":[{\"colorbar\":{\"outlinewidth\":1,\"tickcolor\":\"rgb(36,36,36)\",\"ticks\":\"outside\"},\"colorscale\":[[0.0,\"#440154\"],[0.1111111111111111,\"#482878\"],[0.2222222222222222,\"#3e4989\"],[0.3333333333333333,\"#31688e\"],[0.4444444444444444,\"#26828e\"],[0.5555555555555556,\"#1f9e89\"],[0.6666666666666666,\"#35b779\"],[0.7777777777777778,\"#6ece58\"],[0.8888888888888888,\"#b5de2b\"],[1.0,\"#fde725\"]],\"type\":\"heatmapgl\"}],\"heatmap\":[{\"colorbar\":{\"outlinewidth\":1,\"tickcolor\":\"rgb(36,36,36)\",\"ticks\":\"outside\"},\"colorscale\":[[0.0,\"#440154\"],[0.1111111111111111,\"#482878\"],[0.2222222222222222,\"#3e4989\"],[0.3333333333333333,\"#31688e\"],[0.4444444444444444,\"#26828e\"],[0.5555555555555556,\"#1f9e89\"],[0.6666666666666666,\"#35b779\"],[0.7777777777777778,\"#6ece58\"],[0.8888888888888888,\"#b5de2b\"],[1.0,\"#fde725\"]],\"type\":\"heatmap\"}],\"histogram2dcontour\":[{\"colorbar\":{\"outlinewidth\":1,\"tickcolor\":\"rgb(36,36,36)\",\"ticks\":\"outside\"},\"colorscale\":[[0.0,\"#440154\"],[0.1111111111111111,\"#482878\"],[0.2222222222222222,\"#3e4989\"],[0.3333333333333333,\"#31688e\"],[0.4444444444444444,\"#26828e\"],[0.5555555555555556,\"#1f9e89\"],[0.6666666666666666,\"#35b779\"],[0.7777777777777778,\"#6ece58\"],[0.8888888888888888,\"#b5de2b\"],[1.0,\"#fde725\"]],\"type\":\"histogram2dcontour\"}],\"histogram2d\":[{\"colorbar\":{\"outlinewidth\":1,\"tickcolor\":\"rgb(36,36,36)\",\"ticks\":\"outside\"},\"colorscale\":[[0.0,\"#440154\"],[0.1111111111111111,\"#482878\"],[0.2222222222222222,\"#3e4989\"],[0.3333333333333333,\"#31688e\"],[0.4444444444444444,\"#26828e\"],[0.5555555555555556,\"#1f9e89\"],[0.6666666666666666,\"#35b779\"],[0.7777777777777778,\"#6ece58\"],[0.8888888888888888,\"#b5de2b\"],[1.0,\"#fde725\"]],\"type\":\"histogram2d\"}],\"histogram\":[{\"marker\":{\"line\":{\"color\":\"white\",\"width\":0.6}},\"type\":\"histogram\"}],\"mesh3d\":[{\"colorbar\":{\"outlinewidth\":1,\"tickcolor\":\"rgb(36,36,36)\",\"ticks\":\"outside\"},\"type\":\"mesh3d\"}],\"parcoords\":[{\"line\":{\"colorbar\":{\"outlinewidth\":1,\"tickcolor\":\"rgb(36,36,36)\",\"ticks\":\"outside\"}},\"type\":\"parcoords\"}],\"pie\":[{\"automargin\":true,\"type\":\"pie\"}],\"scatter3d\":[{\"line\":{\"colorbar\":{\"outlinewidth\":1,\"tickcolor\":\"rgb(36,36,36)\",\"ticks\":\"outside\"}},\"marker\":{\"colorbar\":{\"outlinewidth\":1,\"tickcolor\":\"rgb(36,36,36)\",\"ticks\":\"outside\"}},\"type\":\"scatter3d\"}],\"scattercarpet\":[{\"marker\":{\"colorbar\":{\"outlinewidth\":1,\"tickcolor\":\"rgb(36,36,36)\",\"ticks\":\"outside\"}},\"type\":\"scattercarpet\"}],\"scattergeo\":[{\"marker\":{\"colorbar\":{\"outlinewidth\":1,\"tickcolor\":\"rgb(36,36,36)\",\"ticks\":\"outside\"}},\"type\":\"scattergeo\"}],\"scattergl\":[{\"marker\":{\"colorbar\":{\"outlinewidth\":1,\"tickcolor\":\"rgb(36,36,36)\",\"ticks\":\"outside\"}},\"type\":\"scattergl\"}],\"scattermapbox\":[{\"marker\":{\"colorbar\":{\"outlinewidth\":1,\"tickcolor\":\"rgb(36,36,36)\",\"ticks\":\"outside\"}},\"type\":\"scattermapbox\"}],\"scatterpolargl\":[{\"marker\":{\"colorbar\":{\"outlinewidth\":1,\"tickcolor\":\"rgb(36,36,36)\",\"ticks\":\"outside\"}},\"type\":\"scatterpolargl\"}],\"scatterpolar\":[{\"marker\":{\"colorbar\":{\"outlinewidth\":1,\"tickcolor\":\"rgb(36,36,36)\",\"ticks\":\"outside\"}},\"type\":\"scatterpolar\"}],\"scatter\":[{\"marker\":{\"colorbar\":{\"outlinewidth\":1,\"tickcolor\":\"rgb(36,36,36)\",\"ticks\":\"outside\"}},\"type\":\"scatter\"}],\"scatterternary\":[{\"marker\":{\"colorbar\":{\"outlinewidth\":1,\"tickcolor\":\"rgb(36,36,36)\",\"ticks\":\"outside\"}},\"type\":\"scatterternary\"}],\"surface\":[{\"colorbar\":{\"outlinewidth\":1,\"tickcolor\":\"rgb(36,36,36)\",\"ticks\":\"outside\"},\"colorscale\":[[0.0,\"#440154\"],[0.1111111111111111,\"#482878\"],[0.2222222222222222,\"#3e4989\"],[0.3333333333333333,\"#31688e\"],[0.4444444444444444,\"#26828e\"],[0.5555555555555556,\"#1f9e89\"],[0.6666666666666666,\"#35b779\"],[0.7777777777777778,\"#6ece58\"],[0.8888888888888888,\"#b5de2b\"],[1.0,\"#fde725\"]],\"type\":\"surface\"}],\"table\":[{\"cells\":{\"fill\":{\"color\":\"rgb(237,237,237)\"},\"line\":{\"color\":\"white\"}},\"header\":{\"fill\":{\"color\":\"rgb(217,217,217)\"},\"line\":{\"color\":\"white\"}},\"type\":\"table\"}]},\"layout\":{\"annotationdefaults\":{\"arrowhead\":0,\"arrowwidth\":1},\"autotypenumbers\":\"strict\",\"coloraxis\":{\"colorbar\":{\"outlinewidth\":1,\"tickcolor\":\"rgb(36,36,36)\",\"ticks\":\"outside\"}},\"colorscale\":{\"diverging\":[[0.0,\"rgb(103,0,31)\"],[0.1,\"rgb(178,24,43)\"],[0.2,\"rgb(214,96,77)\"],[0.3,\"rgb(244,165,130)\"],[0.4,\"rgb(253,219,199)\"],[0.5,\"rgb(247,247,247)\"],[0.6,\"rgb(209,229,240)\"],[0.7,\"rgb(146,197,222)\"],[0.8,\"rgb(67,147,195)\"],[0.9,\"rgb(33,102,172)\"],[1.0,\"rgb(5,48,97)\"]],\"sequential\":[[0.0,\"#440154\"],[0.1111111111111111,\"#482878\"],[0.2222222222222222,\"#3e4989\"],[0.3333333333333333,\"#31688e\"],[0.4444444444444444,\"#26828e\"],[0.5555555555555556,\"#1f9e89\"],[0.6666666666666666,\"#35b779\"],[0.7777777777777778,\"#6ece58\"],[0.8888888888888888,\"#b5de2b\"],[1.0,\"#fde725\"]],\"sequentialminus\":[[0.0,\"#440154\"],[0.1111111111111111,\"#482878\"],[0.2222222222222222,\"#3e4989\"],[0.3333333333333333,\"#31688e\"],[0.4444444444444444,\"#26828e\"],[0.5555555555555556,\"#1f9e89\"],[0.6666666666666666,\"#35b779\"],[0.7777777777777778,\"#6ece58\"],[0.8888888888888888,\"#b5de2b\"],[1.0,\"#fde725\"]]},\"colorway\":[\"#1F77B4\",\"#FF7F0E\",\"#2CA02C\",\"#D62728\",\"#9467BD\",\"#8C564B\",\"#E377C2\",\"#7F7F7F\",\"#BCBD22\",\"#17BECF\"],\"font\":{\"color\":\"rgb(36,36,36)\"},\"geo\":{\"bgcolor\":\"white\",\"lakecolor\":\"white\",\"landcolor\":\"white\",\"showlakes\":true,\"showland\":true,\"subunitcolor\":\"white\"},\"hoverlabel\":{\"align\":\"left\"},\"hovermode\":\"closest\",\"mapbox\":{\"style\":\"light\"},\"paper_bgcolor\":\"white\",\"plot_bgcolor\":\"white\",\"polar\":{\"angularaxis\":{\"gridcolor\":\"rgb(232,232,232)\",\"linecolor\":\"rgb(36,36,36)\",\"showgrid\":false,\"showline\":true,\"ticks\":\"outside\"},\"bgcolor\":\"white\",\"radialaxis\":{\"gridcolor\":\"rgb(232,232,232)\",\"linecolor\":\"rgb(36,36,36)\",\"showgrid\":false,\"showline\":true,\"ticks\":\"outside\"}},\"scene\":{\"xaxis\":{\"backgroundcolor\":\"white\",\"gridcolor\":\"rgb(232,232,232)\",\"gridwidth\":2,\"linecolor\":\"rgb(36,36,36)\",\"showbackground\":true,\"showgrid\":false,\"showline\":true,\"ticks\":\"outside\",\"zeroline\":false,\"zerolinecolor\":\"rgb(36,36,36)\"},\"yaxis\":{\"backgroundcolor\":\"white\",\"gridcolor\":\"rgb(232,232,232)\",\"gridwidth\":2,\"linecolor\":\"rgb(36,36,36)\",\"showbackground\":true,\"showgrid\":false,\"showline\":true,\"ticks\":\"outside\",\"zeroline\":false,\"zerolinecolor\":\"rgb(36,36,36)\"},\"zaxis\":{\"backgroundcolor\":\"white\",\"gridcolor\":\"rgb(232,232,232)\",\"gridwidth\":2,\"linecolor\":\"rgb(36,36,36)\",\"showbackground\":true,\"showgrid\":false,\"showline\":true,\"ticks\":\"outside\",\"zeroline\":false,\"zerolinecolor\":\"rgb(36,36,36)\"}},\"shapedefaults\":{\"fillcolor\":\"black\",\"line\":{\"width\":0},\"opacity\":0.3},\"ternary\":{\"aaxis\":{\"gridcolor\":\"rgb(232,232,232)\",\"linecolor\":\"rgb(36,36,36)\",\"showgrid\":false,\"showline\":true,\"ticks\":\"outside\"},\"baxis\":{\"gridcolor\":\"rgb(232,232,232)\",\"linecolor\":\"rgb(36,36,36)\",\"showgrid\":false,\"showline\":true,\"ticks\":\"outside\"},\"bgcolor\":\"white\",\"caxis\":{\"gridcolor\":\"rgb(232,232,232)\",\"linecolor\":\"rgb(36,36,36)\",\"showgrid\":false,\"showline\":true,\"ticks\":\"outside\"}},\"title\":{\"x\":0.05},\"xaxis\":{\"automargin\":true,\"gridcolor\":\"rgb(232,232,232)\",\"linecolor\":\"rgb(36,36,36)\",\"showgrid\":false,\"showline\":true,\"ticks\":\"outside\",\"title\":{\"standoff\":15},\"zeroline\":false,\"zerolinecolor\":\"rgb(36,36,36)\"},\"yaxis\":{\"automargin\":true,\"gridcolor\":\"rgb(232,232,232)\",\"linecolor\":\"rgb(36,36,36)\",\"showgrid\":false,\"showline\":true,\"ticks\":\"outside\",\"title\":{\"standoff\":15},\"zeroline\":false,\"zerolinecolor\":\"rgb(36,36,36)\"}}},\"xaxis\":{\"anchor\":\"y\",\"domain\":[0.0,1.0],\"title\":{\"text\":\"index\"}},\"yaxis\":{\"anchor\":\"x\",\"domain\":[0.0,1.0],\"title\":{\"text\":\"value\"}},\"coloraxis\":{\"colorbar\":{\"title\":{\"text\":\"color\"}},\"colorscale\":[[0.0,\"rgb(255,247,243)\"],[0.125,\"rgb(253,224,221)\"],[0.25,\"rgb(252,197,192)\"],[0.375,\"rgb(250,159,181)\"],[0.5,\"rgb(247,104,161)\"],[0.625,\"rgb(221,52,151)\"],[0.75,\"rgb(174,1,126)\"],[0.875,\"rgb(122,1,119)\"],[1.0,\"rgb(73,0,106)\"]]},\"legend\":{\"tracegroupgap\":0},\"margin\":{\"t\":60},\"barmode\":\"relative\",\"title\":{\"text\":\"Top 15 words for age\"},\"hovermode\":\"x unified\"},                        {\"responsive\": true}                    ).then(function(){\n",
       "                            \n",
       "var gd = document.getElementById('c7fc3d69-f735-478d-9167-e79f43830dd2');\n",
       "var x = new MutationObserver(function (mutations, observer) {{\n",
       "        var display = window.getComputedStyle(gd).display;\n",
       "        if (!display || display === 'none') {{\n",
       "            console.log([gd, 'removed!']);\n",
       "            Plotly.purge(gd);\n",
       "            observer.disconnect();\n",
       "        }}\n",
       "}});\n",
       "\n",
       "// Listen for the removal of the full notebook cells\n",
       "var notebookContainer = gd.closest('#notebook-container');\n",
       "if (notebookContainer) {{\n",
       "    x.observe(notebookContainer, {childList: true});\n",
       "}}\n",
       "\n",
       "// Listen for the clearing of the current output cell\n",
       "var outputEl = gd.closest('.output');\n",
       "if (outputEl) {{\n",
       "    x.observe(outputEl, {childList: true});\n",
       "}}\n",
       "\n",
       "                        })                };                });            </script>        </div>"
      ]
     },
     "metadata": {},
     "output_type": "display_data"
    },
    {
     "data": {
      "text/html": [
       "<div>                            <div id=\"de2bf425-b585-4036-887a-c46a36631860\" class=\"plotly-graph-div\" style=\"height:525px; width:100%;\"></div>            <script type=\"text/javascript\">                require([\"plotly\"], function(Plotly) {                    window.PLOTLYENV=window.PLOTLYENV || {};                                    if (document.getElementById(\"de2bf425-b585-4036-887a-c46a36631860\")) {                    Plotly.newPlot(                        \"de2bf425-b585-4036-887a-c46a36631860\",                        [{\"alignmentgroup\":\"True\",\"customdata\":[[5800],[5006],[4677],[2240],[2092],[1530],[1363],[1069],[1018],[1017],[973],[823],[798],[743],[737]],\"hovertemplate\":\"<b>Count: </b>%{customdata[0]}\",\"legendgroup\":\"\",\"marker\":{\"color\":\"red\",\"coloraxis\":\"coloraxis\",\"pattern\":{\"shape\":\"\"}},\"name\":\"\",\"offsetgroup\":\"\",\"orientation\":\"v\",\"showlegend\":false,\"textposition\":\"auto\",\"x\":[\"fuck\",\"dumb\",\"nigger\",\"ass\",\"black\",\"white\",\"call\",\"obama\",\"one\",\"peopl\",\"bitch\",\"dont\",\"say\",\"first\",\"get\"],\"xaxis\":\"x\",\"y\":[5800,5006,4677,2240,2092,1530,1363,1069,1018,1017,973,823,798,743,737],\"yaxis\":\"y\",\"type\":\"bar\"}],                        {\"template\":{\"data\":{\"barpolar\":[{\"marker\":{\"line\":{\"color\":\"white\",\"width\":0.5},\"pattern\":{\"fillmode\":\"overlay\",\"size\":10,\"solidity\":0.2}},\"type\":\"barpolar\"}],\"bar\":[{\"error_x\":{\"color\":\"rgb(36,36,36)\"},\"error_y\":{\"color\":\"rgb(36,36,36)\"},\"marker\":{\"line\":{\"color\":\"white\",\"width\":0.5},\"pattern\":{\"fillmode\":\"overlay\",\"size\":10,\"solidity\":0.2}},\"type\":\"bar\"}],\"carpet\":[{\"aaxis\":{\"endlinecolor\":\"rgb(36,36,36)\",\"gridcolor\":\"white\",\"linecolor\":\"white\",\"minorgridcolor\":\"white\",\"startlinecolor\":\"rgb(36,36,36)\"},\"baxis\":{\"endlinecolor\":\"rgb(36,36,36)\",\"gridcolor\":\"white\",\"linecolor\":\"white\",\"minorgridcolor\":\"white\",\"startlinecolor\":\"rgb(36,36,36)\"},\"type\":\"carpet\"}],\"choropleth\":[{\"colorbar\":{\"outlinewidth\":1,\"tickcolor\":\"rgb(36,36,36)\",\"ticks\":\"outside\"},\"type\":\"choropleth\"}],\"contourcarpet\":[{\"colorbar\":{\"outlinewidth\":1,\"tickcolor\":\"rgb(36,36,36)\",\"ticks\":\"outside\"},\"type\":\"contourcarpet\"}],\"contour\":[{\"colorbar\":{\"outlinewidth\":1,\"tickcolor\":\"rgb(36,36,36)\",\"ticks\":\"outside\"},\"colorscale\":[[0.0,\"#440154\"],[0.1111111111111111,\"#482878\"],[0.2222222222222222,\"#3e4989\"],[0.3333333333333333,\"#31688e\"],[0.4444444444444444,\"#26828e\"],[0.5555555555555556,\"#1f9e89\"],[0.6666666666666666,\"#35b779\"],[0.7777777777777778,\"#6ece58\"],[0.8888888888888888,\"#b5de2b\"],[1.0,\"#fde725\"]],\"type\":\"contour\"}],\"heatmapgl\":[{\"colorbar\":{\"outlinewidth\":1,\"tickcolor\":\"rgb(36,36,36)\",\"ticks\":\"outside\"},\"colorscale\":[[0.0,\"#440154\"],[0.1111111111111111,\"#482878\"],[0.2222222222222222,\"#3e4989\"],[0.3333333333333333,\"#31688e\"],[0.4444444444444444,\"#26828e\"],[0.5555555555555556,\"#1f9e89\"],[0.6666666666666666,\"#35b779\"],[0.7777777777777778,\"#6ece58\"],[0.8888888888888888,\"#b5de2b\"],[1.0,\"#fde725\"]],\"type\":\"heatmapgl\"}],\"heatmap\":[{\"colorbar\":{\"outlinewidth\":1,\"tickcolor\":\"rgb(36,36,36)\",\"ticks\":\"outside\"},\"colorscale\":[[0.0,\"#440154\"],[0.1111111111111111,\"#482878\"],[0.2222222222222222,\"#3e4989\"],[0.3333333333333333,\"#31688e\"],[0.4444444444444444,\"#26828e\"],[0.5555555555555556,\"#1f9e89\"],[0.6666666666666666,\"#35b779\"],[0.7777777777777778,\"#6ece58\"],[0.8888888888888888,\"#b5de2b\"],[1.0,\"#fde725\"]],\"type\":\"heatmap\"}],\"histogram2dcontour\":[{\"colorbar\":{\"outlinewidth\":1,\"tickcolor\":\"rgb(36,36,36)\",\"ticks\":\"outside\"},\"colorscale\":[[0.0,\"#440154\"],[0.1111111111111111,\"#482878\"],[0.2222222222222222,\"#3e4989\"],[0.3333333333333333,\"#31688e\"],[0.4444444444444444,\"#26828e\"],[0.5555555555555556,\"#1f9e89\"],[0.6666666666666666,\"#35b779\"],[0.7777777777777778,\"#6ece58\"],[0.8888888888888888,\"#b5de2b\"],[1.0,\"#fde725\"]],\"type\":\"histogram2dcontour\"}],\"histogram2d\":[{\"colorbar\":{\"outlinewidth\":1,\"tickcolor\":\"rgb(36,36,36)\",\"ticks\":\"outside\"},\"colorscale\":[[0.0,\"#440154\"],[0.1111111111111111,\"#482878\"],[0.2222222222222222,\"#3e4989\"],[0.3333333333333333,\"#31688e\"],[0.4444444444444444,\"#26828e\"],[0.5555555555555556,\"#1f9e89\"],[0.6666666666666666,\"#35b779\"],[0.7777777777777778,\"#6ece58\"],[0.8888888888888888,\"#b5de2b\"],[1.0,\"#fde725\"]],\"type\":\"histogram2d\"}],\"histogram\":[{\"marker\":{\"line\":{\"color\":\"white\",\"width\":0.6}},\"type\":\"histogram\"}],\"mesh3d\":[{\"colorbar\":{\"outlinewidth\":1,\"tickcolor\":\"rgb(36,36,36)\",\"ticks\":\"outside\"},\"type\":\"mesh3d\"}],\"parcoords\":[{\"line\":{\"colorbar\":{\"outlinewidth\":1,\"tickcolor\":\"rgb(36,36,36)\",\"ticks\":\"outside\"}},\"type\":\"parcoords\"}],\"pie\":[{\"automargin\":true,\"type\":\"pie\"}],\"scatter3d\":[{\"line\":{\"colorbar\":{\"outlinewidth\":1,\"tickcolor\":\"rgb(36,36,36)\",\"ticks\":\"outside\"}},\"marker\":{\"colorbar\":{\"outlinewidth\":1,\"tickcolor\":\"rgb(36,36,36)\",\"ticks\":\"outside\"}},\"type\":\"scatter3d\"}],\"scattercarpet\":[{\"marker\":{\"colorbar\":{\"outlinewidth\":1,\"tickcolor\":\"rgb(36,36,36)\",\"ticks\":\"outside\"}},\"type\":\"scattercarpet\"}],\"scattergeo\":[{\"marker\":{\"colorbar\":{\"outlinewidth\":1,\"tickcolor\":\"rgb(36,36,36)\",\"ticks\":\"outside\"}},\"type\":\"scattergeo\"}],\"scattergl\":[{\"marker\":{\"colorbar\":{\"outlinewidth\":1,\"tickcolor\":\"rgb(36,36,36)\",\"ticks\":\"outside\"}},\"type\":\"scattergl\"}],\"scattermapbox\":[{\"marker\":{\"colorbar\":{\"outlinewidth\":1,\"tickcolor\":\"rgb(36,36,36)\",\"ticks\":\"outside\"}},\"type\":\"scattermapbox\"}],\"scatterpolargl\":[{\"marker\":{\"colorbar\":{\"outlinewidth\":1,\"tickcolor\":\"rgb(36,36,36)\",\"ticks\":\"outside\"}},\"type\":\"scatterpolargl\"}],\"scatterpolar\":[{\"marker\":{\"colorbar\":{\"outlinewidth\":1,\"tickcolor\":\"rgb(36,36,36)\",\"ticks\":\"outside\"}},\"type\":\"scatterpolar\"}],\"scatter\":[{\"marker\":{\"colorbar\":{\"outlinewidth\":1,\"tickcolor\":\"rgb(36,36,36)\",\"ticks\":\"outside\"}},\"type\":\"scatter\"}],\"scatterternary\":[{\"marker\":{\"colorbar\":{\"outlinewidth\":1,\"tickcolor\":\"rgb(36,36,36)\",\"ticks\":\"outside\"}},\"type\":\"scatterternary\"}],\"surface\":[{\"colorbar\":{\"outlinewidth\":1,\"tickcolor\":\"rgb(36,36,36)\",\"ticks\":\"outside\"},\"colorscale\":[[0.0,\"#440154\"],[0.1111111111111111,\"#482878\"],[0.2222222222222222,\"#3e4989\"],[0.3333333333333333,\"#31688e\"],[0.4444444444444444,\"#26828e\"],[0.5555555555555556,\"#1f9e89\"],[0.6666666666666666,\"#35b779\"],[0.7777777777777778,\"#6ece58\"],[0.8888888888888888,\"#b5de2b\"],[1.0,\"#fde725\"]],\"type\":\"surface\"}],\"table\":[{\"cells\":{\"fill\":{\"color\":\"rgb(237,237,237)\"},\"line\":{\"color\":\"white\"}},\"header\":{\"fill\":{\"color\":\"rgb(217,217,217)\"},\"line\":{\"color\":\"white\"}},\"type\":\"table\"}]},\"layout\":{\"annotationdefaults\":{\"arrowhead\":0,\"arrowwidth\":1},\"autotypenumbers\":\"strict\",\"coloraxis\":{\"colorbar\":{\"outlinewidth\":1,\"tickcolor\":\"rgb(36,36,36)\",\"ticks\":\"outside\"}},\"colorscale\":{\"diverging\":[[0.0,\"rgb(103,0,31)\"],[0.1,\"rgb(178,24,43)\"],[0.2,\"rgb(214,96,77)\"],[0.3,\"rgb(244,165,130)\"],[0.4,\"rgb(253,219,199)\"],[0.5,\"rgb(247,247,247)\"],[0.6,\"rgb(209,229,240)\"],[0.7,\"rgb(146,197,222)\"],[0.8,\"rgb(67,147,195)\"],[0.9,\"rgb(33,102,172)\"],[1.0,\"rgb(5,48,97)\"]],\"sequential\":[[0.0,\"#440154\"],[0.1111111111111111,\"#482878\"],[0.2222222222222222,\"#3e4989\"],[0.3333333333333333,\"#31688e\"],[0.4444444444444444,\"#26828e\"],[0.5555555555555556,\"#1f9e89\"],[0.6666666666666666,\"#35b779\"],[0.7777777777777778,\"#6ece58\"],[0.8888888888888888,\"#b5de2b\"],[1.0,\"#fde725\"]],\"sequentialminus\":[[0.0,\"#440154\"],[0.1111111111111111,\"#482878\"],[0.2222222222222222,\"#3e4989\"],[0.3333333333333333,\"#31688e\"],[0.4444444444444444,\"#26828e\"],[0.5555555555555556,\"#1f9e89\"],[0.6666666666666666,\"#35b779\"],[0.7777777777777778,\"#6ece58\"],[0.8888888888888888,\"#b5de2b\"],[1.0,\"#fde725\"]]},\"colorway\":[\"#1F77B4\",\"#FF7F0E\",\"#2CA02C\",\"#D62728\",\"#9467BD\",\"#8C564B\",\"#E377C2\",\"#7F7F7F\",\"#BCBD22\",\"#17BECF\"],\"font\":{\"color\":\"rgb(36,36,36)\"},\"geo\":{\"bgcolor\":\"white\",\"lakecolor\":\"white\",\"landcolor\":\"white\",\"showlakes\":true,\"showland\":true,\"subunitcolor\":\"white\"},\"hoverlabel\":{\"align\":\"left\"},\"hovermode\":\"closest\",\"mapbox\":{\"style\":\"light\"},\"paper_bgcolor\":\"white\",\"plot_bgcolor\":\"white\",\"polar\":{\"angularaxis\":{\"gridcolor\":\"rgb(232,232,232)\",\"linecolor\":\"rgb(36,36,36)\",\"showgrid\":false,\"showline\":true,\"ticks\":\"outside\"},\"bgcolor\":\"white\",\"radialaxis\":{\"gridcolor\":\"rgb(232,232,232)\",\"linecolor\":\"rgb(36,36,36)\",\"showgrid\":false,\"showline\":true,\"ticks\":\"outside\"}},\"scene\":{\"xaxis\":{\"backgroundcolor\":\"white\",\"gridcolor\":\"rgb(232,232,232)\",\"gridwidth\":2,\"linecolor\":\"rgb(36,36,36)\",\"showbackground\":true,\"showgrid\":false,\"showline\":true,\"ticks\":\"outside\",\"zeroline\":false,\"zerolinecolor\":\"rgb(36,36,36)\"},\"yaxis\":{\"backgroundcolor\":\"white\",\"gridcolor\":\"rgb(232,232,232)\",\"gridwidth\":2,\"linecolor\":\"rgb(36,36,36)\",\"showbackground\":true,\"showgrid\":false,\"showline\":true,\"ticks\":\"outside\",\"zeroline\":false,\"zerolinecolor\":\"rgb(36,36,36)\"},\"zaxis\":{\"backgroundcolor\":\"white\",\"gridcolor\":\"rgb(232,232,232)\",\"gridwidth\":2,\"linecolor\":\"rgb(36,36,36)\",\"showbackground\":true,\"showgrid\":false,\"showline\":true,\"ticks\":\"outside\",\"zeroline\":false,\"zerolinecolor\":\"rgb(36,36,36)\"}},\"shapedefaults\":{\"fillcolor\":\"black\",\"line\":{\"width\":0},\"opacity\":0.3},\"ternary\":{\"aaxis\":{\"gridcolor\":\"rgb(232,232,232)\",\"linecolor\":\"rgb(36,36,36)\",\"showgrid\":false,\"showline\":true,\"ticks\":\"outside\"},\"baxis\":{\"gridcolor\":\"rgb(232,232,232)\",\"linecolor\":\"rgb(36,36,36)\",\"showgrid\":false,\"showline\":true,\"ticks\":\"outside\"},\"bgcolor\":\"white\",\"caxis\":{\"gridcolor\":\"rgb(232,232,232)\",\"linecolor\":\"rgb(36,36,36)\",\"showgrid\":false,\"showline\":true,\"ticks\":\"outside\"}},\"title\":{\"x\":0.05},\"xaxis\":{\"automargin\":true,\"gridcolor\":\"rgb(232,232,232)\",\"linecolor\":\"rgb(36,36,36)\",\"showgrid\":false,\"showline\":true,\"ticks\":\"outside\",\"title\":{\"standoff\":15},\"zeroline\":false,\"zerolinecolor\":\"rgb(36,36,36)\"},\"yaxis\":{\"automargin\":true,\"gridcolor\":\"rgb(232,232,232)\",\"linecolor\":\"rgb(36,36,36)\",\"showgrid\":false,\"showline\":true,\"ticks\":\"outside\",\"title\":{\"standoff\":15},\"zeroline\":false,\"zerolinecolor\":\"rgb(36,36,36)\"}}},\"xaxis\":{\"anchor\":\"y\",\"domain\":[0.0,1.0],\"title\":{\"text\":\"index\"}},\"yaxis\":{\"anchor\":\"x\",\"domain\":[0.0,1.0],\"title\":{\"text\":\"value\"}},\"coloraxis\":{\"colorbar\":{\"title\":{\"text\":\"color\"}},\"colorscale\":[[0.0,\"rgb(255,247,243)\"],[0.125,\"rgb(253,224,221)\"],[0.25,\"rgb(252,197,192)\"],[0.375,\"rgb(250,159,181)\"],[0.5,\"rgb(247,104,161)\"],[0.625,\"rgb(221,52,151)\"],[0.75,\"rgb(174,1,126)\"],[0.875,\"rgb(122,1,119)\"],[1.0,\"rgb(73,0,106)\"]]},\"legend\":{\"tracegroupgap\":0},\"margin\":{\"t\":60},\"barmode\":\"relative\",\"title\":{\"text\":\"Top 15 words for ethnicity\"},\"hovermode\":\"x unified\"},                        {\"responsive\": true}                    ).then(function(){\n",
       "                            \n",
       "var gd = document.getElementById('de2bf425-b585-4036-887a-c46a36631860');\n",
       "var x = new MutationObserver(function (mutations, observer) {{\n",
       "        var display = window.getComputedStyle(gd).display;\n",
       "        if (!display || display === 'none') {{\n",
       "            console.log([gd, 'removed!']);\n",
       "            Plotly.purge(gd);\n",
       "            observer.disconnect();\n",
       "        }}\n",
       "}});\n",
       "\n",
       "// Listen for the removal of the full notebook cells\n",
       "var notebookContainer = gd.closest('#notebook-container');\n",
       "if (notebookContainer) {{\n",
       "    x.observe(notebookContainer, {childList: true});\n",
       "}}\n",
       "\n",
       "// Listen for the clearing of the current output cell\n",
       "var outputEl = gd.closest('.output');\n",
       "if (outputEl) {{\n",
       "    x.observe(outputEl, {childList: true});\n",
       "}}\n",
       "\n",
       "                        })                };                });            </script>        </div>"
      ]
     },
     "metadata": {},
     "output_type": "display_data"
    }
   ],
   "source": [
    "# Plotting the top 15 words of each cyberbullying type\n",
    "for cyber_type in df.cyberbullying_type.unique():\n",
    "    \n",
    "    top50_word = df.cleaned_text[df.cyberbullying_type==cyber_type].str.split(expand=True).stack().value_counts()[:15]\n",
    "    \n",
    "    fig = px.bar(top50_word, color=top50_word.values, color_continuous_scale=px.colors.sequential.RdPu, custom_data=[top50_word.values])\n",
    "    fig.update_traces(marker_color='red')\n",
    "    fig.update_traces(hovertemplate='<b>Count: </b>%{customdata[0]}')\n",
    "    fig.update_layout(title=f\"Top 15 words for {cyber_type}\",\n",
    "                     template='simple_white',\n",
    "                     hovermode='x unified')\n",
    "    fig.show()"
   ]
  },
  {
   "cell_type": "code",
   "execution_count": 19,
   "id": "2aedf9da",
   "metadata": {
    "execution": {
     "iopub.execute_input": "2022-04-17T02:58:27.093112Z",
     "iopub.status.busy": "2022-04-17T02:58:27.092452Z",
     "iopub.status.idle": "2022-04-17T02:58:27.094862Z",
     "shell.execute_reply": "2022-04-17T02:58:27.094294Z",
     "shell.execute_reply.started": "2022-04-16T09:38:15.79228Z"
    },
    "papermill": {
     "duration": 0.07551,
     "end_time": "2022-04-17T02:58:27.094981",
     "exception": false,
     "start_time": "2022-04-17T02:58:27.019471",
     "status": "completed"
    },
    "tags": []
   },
   "outputs": [],
   "source": [
    "from sklearn.model_selection import train_test_split\n",
    "from sklearn.feature_extraction.text import TfidfVectorizer"
   ]
  },
  {
   "cell_type": "code",
   "execution_count": 20,
   "id": "7c741be3",
   "metadata": {
    "execution": {
     "iopub.execute_input": "2022-04-17T02:58:27.237872Z",
     "iopub.status.busy": "2022-04-17T02:58:27.237224Z",
     "iopub.status.idle": "2022-04-17T02:58:27.238892Z",
     "shell.execute_reply": "2022-04-17T02:58:27.239458Z",
     "shell.execute_reply.started": "2022-04-16T09:38:15.801072Z"
    },
    "papermill": {
     "duration": 0.074998,
     "end_time": "2022-04-17T02:58:27.239626",
     "exception": false,
     "start_time": "2022-04-17T02:58:27.164628",
     "status": "completed"
    },
    "tags": []
   },
   "outputs": [],
   "source": [
    "X = df['cleaned_text']  # Feature (raw data)\n",
    "y = df['cyberbullying_type']  # Target Label"
   ]
  },
  {
   "cell_type": "code",
   "execution_count": 21,
   "id": "ac09a008",
   "metadata": {
    "execution": {
     "iopub.execute_input": "2022-04-17T02:58:27.380007Z",
     "iopub.status.busy": "2022-04-17T02:58:27.379372Z",
     "iopub.status.idle": "2022-04-17T02:58:27.389260Z",
     "shell.execute_reply": "2022-04-17T02:58:27.389766Z",
     "shell.execute_reply.started": "2022-04-16T09:38:15.809743Z"
    },
    "papermill": {
     "duration": 0.081516,
     "end_time": "2022-04-17T02:58:27.389929",
     "exception": false,
     "start_time": "2022-04-17T02:58:27.308413",
     "status": "completed"
    },
    "tags": []
   },
   "outputs": [],
   "source": [
    "X_train, X_test, y_train, y_test = train_test_split(X, y, test_size = 0.1, random_state = 42)\n",
    "# Performing the train|test split. This test set is essentially a hold out test set as we'll be performing Cross Validation\n",
    "# using Grid Search which will split our training data into a training and validation split"
   ]
  },
  {
   "cell_type": "code",
   "execution_count": 22,
   "id": "822f7405",
   "metadata": {
    "execution": {
     "iopub.execute_input": "2022-04-17T02:58:27.532846Z",
     "iopub.status.busy": "2022-04-17T02:58:27.531197Z",
     "iopub.status.idle": "2022-04-17T02:58:27.534813Z",
     "shell.execute_reply": "2022-04-17T02:58:27.535391Z",
     "shell.execute_reply.started": "2022-04-16T09:38:15.826463Z"
    },
    "papermill": {
     "duration": 0.077435,
     "end_time": "2022-04-17T02:58:27.535586",
     "exception": false,
     "start_time": "2022-04-17T02:58:27.458151",
     "status": "completed"
    },
    "tags": []
   },
   "outputs": [],
   "source": [
    "tfidf = TfidfVectorizer(max_features = 5000)  # Using the TF - IDF Vectorizer to extract top 5000 most important features\n",
    "# from the text data "
   ]
  },
  {
   "cell_type": "code",
   "execution_count": 23,
   "id": "c444aa2e",
   "metadata": {
    "execution": {
     "iopub.execute_input": "2022-04-17T02:58:27.678804Z",
     "iopub.status.busy": "2022-04-17T02:58:27.678120Z",
     "iopub.status.idle": "2022-04-17T02:58:28.584647Z",
     "shell.execute_reply": "2022-04-17T02:58:28.585164Z",
     "shell.execute_reply.started": "2022-04-16T09:38:15.831692Z"
    },
    "papermill": {
     "duration": 0.979479,
     "end_time": "2022-04-17T02:58:28.585369",
     "exception": false,
     "start_time": "2022-04-17T02:58:27.605890",
     "status": "completed"
    },
    "tags": []
   },
   "outputs": [],
   "source": [
    "# Feature Extraction\n",
    "X_train_tfidf = tfidf.fit_transform(X_train)  # Creating the vocabulary only from the training set to avoid data leakage from \n",
    "X_test_tfidf = tfidf.transform(X_test)        # the test set."
   ]
  },
  {
   "cell_type": "code",
   "execution_count": 24,
   "id": "7d30d0f5",
   "metadata": {
    "execution": {
     "iopub.execute_input": "2022-04-17T02:58:28.726865Z",
     "iopub.status.busy": "2022-04-17T02:58:28.725872Z",
     "iopub.status.idle": "2022-04-17T02:58:28.731119Z",
     "shell.execute_reply": "2022-04-17T02:58:28.731655Z",
     "shell.execute_reply.started": "2022-04-16T09:38:16.481792Z"
    },
    "papermill": {
     "duration": 0.078039,
     "end_time": "2022-04-17T02:58:28.731821",
     "exception": false,
     "start_time": "2022-04-17T02:58:28.653782",
     "status": "completed"
    },
    "tags": []
   },
   "outputs": [
    {
     "data": {
      "text/plain": [
       "<35043x5000 sparse matrix of type '<class 'numpy.float64'>'\n",
       "\twith 403374 stored elements in Compressed Sparse Row format>"
      ]
     },
     "execution_count": 24,
     "metadata": {},
     "output_type": "execute_result"
    }
   ],
   "source": [
    "X_train_tfidf  # Sparse Matrix is created to save memory since many values are close to 0"
   ]
  },
  {
   "cell_type": "code",
   "execution_count": 25,
   "id": "89dab3ba",
   "metadata": {
    "execution": {
     "iopub.execute_input": "2022-04-17T02:58:28.874321Z",
     "iopub.status.busy": "2022-04-17T02:58:28.873709Z",
     "iopub.status.idle": "2022-04-17T02:58:28.878505Z",
     "shell.execute_reply": "2022-04-17T02:58:28.879017Z",
     "shell.execute_reply.started": "2022-04-16T09:38:16.489812Z"
    },
    "papermill": {
     "duration": 0.077245,
     "end_time": "2022-04-17T02:58:28.879167",
     "exception": false,
     "start_time": "2022-04-17T02:58:28.801922",
     "status": "completed"
    },
    "tags": []
   },
   "outputs": [
    {
     "data": {
      "text/plain": [
       "<3894x5000 sparse matrix of type '<class 'numpy.float64'>'\n",
       "\twith 44224 stored elements in Compressed Sparse Row format>"
      ]
     },
     "execution_count": 25,
     "metadata": {},
     "output_type": "execute_result"
    }
   ],
   "source": [
    "X_test_tfidf  # Sparse Matrix"
   ]
  },
  {
   "cell_type": "code",
   "execution_count": 26,
   "id": "e7e1002f",
   "metadata": {
    "execution": {
     "iopub.execute_input": "2022-04-17T02:58:29.024653Z",
     "iopub.status.busy": "2022-04-17T02:58:29.023933Z",
     "iopub.status.idle": "2022-04-17T02:58:33.297708Z",
     "shell.execute_reply": "2022-04-17T02:58:33.297149Z",
     "shell.execute_reply.started": "2022-04-16T09:38:16.500346Z"
    },
    "papermill": {
     "duration": 4.347155,
     "end_time": "2022-04-17T02:58:33.297855",
     "exception": false,
     "start_time": "2022-04-17T02:58:28.950700",
     "status": "completed"
    },
    "tags": []
   },
   "outputs": [],
   "source": [
    "from sklearn.preprocessing import StandardScaler\n",
    "scaler = StandardScaler()\n",
    "tfidf_array_train = X_train_tfidf.toarray()   # Converting the sparse matrix to a numpy array (dense matrix)\n",
    "tfidf_array_test = X_test_tfidf.toarray()     # Converting the sparse matrix to a numpy array (dense matrix)\n",
    "scaled_X_train = scaler.fit_transform(tfidf_array_train)  # Fitting on only training data to avoid data leakage from test data\n",
    "scaled_X_test = scaler.transform(tfidf_array_test) # and then tranforming both training and testing data"
   ]
  },
  {
   "cell_type": "code",
   "execution_count": 27,
   "id": "c79060ff",
   "metadata": {
    "execution": {
     "iopub.execute_input": "2022-04-17T02:58:33.443357Z",
     "iopub.status.busy": "2022-04-17T02:58:33.442556Z",
     "iopub.status.idle": "2022-04-17T03:01:29.868241Z",
     "shell.execute_reply": "2022-04-17T03:01:29.867570Z",
     "shell.execute_reply.started": "2022-04-16T09:38:20.729375Z"
    },
    "papermill": {
     "duration": 176.499972,
     "end_time": "2022-04-17T03:01:29.868422",
     "exception": false,
     "start_time": "2022-04-17T02:58:33.368450",
     "status": "completed"
    },
    "tags": []
   },
   "outputs": [],
   "source": [
    "# Performing Dimensionality Reduction using Principal Component Analysis\n",
    "from sklearn.decomposition import PCA\n",
    "NUM_COMPONENTS = 5000  # Total number of features\n",
    "pca = PCA(NUM_COMPONENTS)\n",
    "reduced = pca.fit(scaled_X_train)"
   ]
  },
  {
   "cell_type": "code",
   "execution_count": 28,
   "id": "30a5bea8",
   "metadata": {
    "execution": {
     "iopub.execute_input": "2022-04-17T03:01:30.015790Z",
     "iopub.status.busy": "2022-04-17T03:01:30.014987Z",
     "iopub.status.idle": "2022-04-17T03:01:30.018358Z",
     "shell.execute_reply": "2022-04-17T03:01:30.017698Z",
     "shell.execute_reply.started": "2022-04-16T09:41:08.710427Z"
    },
    "papermill": {
     "duration": 0.077708,
     "end_time": "2022-04-17T03:01:30.018499",
     "exception": false,
     "start_time": "2022-04-17T03:01:29.940791",
     "status": "completed"
    },
    "tags": []
   },
   "outputs": [],
   "source": [
    "variance_explained = np.cumsum(pca.explained_variance_ratio_)  # Calculating the cumulative explained variance by the components"
   ]
  },
  {
   "cell_type": "code",
   "execution_count": 29,
   "id": "83d33317",
   "metadata": {
    "execution": {
     "iopub.execute_input": "2022-04-17T03:01:30.177262Z",
     "iopub.status.busy": "2022-04-17T03:01:30.176093Z",
     "iopub.status.idle": "2022-04-17T03:01:30.384278Z",
     "shell.execute_reply": "2022-04-17T03:01:30.383565Z",
     "shell.execute_reply.started": "2022-04-16T09:41:08.718149Z"
    },
    "papermill": {
     "duration": 0.294303,
     "end_time": "2022-04-17T03:01:30.384430",
     "exception": false,
     "start_time": "2022-04-17T03:01:30.090127",
     "status": "completed"
    },
    "tags": []
   },
   "outputs": [
    {
     "data": {
      "text/plain": [
       "Text(0, 0.5, 'Cumulative explained variance')"
      ]
     },
     "execution_count": 29,
     "metadata": {},
     "output_type": "execute_result"
    },
    {
     "data": {
      "image/png": "[encoded data removed]",
      "text/plain": [
       "<Figure size 576x432 with 1 Axes>"
      ]
     },
     "metadata": {
      "needs_background": "light"
     },
     "output_type": "display_data"
    }
   ],
   "source": [
    "# Plotting\n",
    "fig, ax = plt.subplots(figsize=(8, 6))\n",
    "plt.plot(range(NUM_COMPONENTS),variance_explained, color='r')\n",
    "ax.grid(True)\n",
    "plt.xlabel(\"Number of components\")\n",
    "plt.ylabel(\"Cumulative explained variance\")"
   ]
  },
  {
   "cell_type": "code",
   "execution_count": 30,
   "id": "f0467631",
   "metadata": {
    "execution": {
     "iopub.execute_input": "2022-04-17T03:01:30.533784Z",
     "iopub.status.busy": "2022-04-17T03:01:30.532783Z",
     "iopub.status.idle": "2022-04-17T03:04:30.582002Z",
     "shell.execute_reply": "2022-04-17T03:04:30.580874Z",
     "shell.execute_reply.started": "2022-04-16T09:41:08.950701Z"
    },
    "papermill": {
     "duration": 180.126243,
     "end_time": "2022-04-17T03:04:30.582346",
     "exception": false,
     "start_time": "2022-04-17T03:01:30.456103",
     "status": "completed"
    },
    "tags": []
   },
   "outputs": [],
   "source": [
    "final_pca = PCA(0.9)   \n",
    "reduced_90 = final_pca.fit_transform(scaled_X_train) # Number of Components explaining 90% variance in the training data"
   ]
  },
  {
   "cell_type": "code",
   "execution_count": 31,
   "id": "c0970fc7",
   "metadata": {
    "execution": {
     "iopub.execute_input": "2022-04-17T03:04:30.736976Z",
     "iopub.status.busy": "2022-04-17T03:04:30.735739Z",
     "iopub.status.idle": "2022-04-17T03:04:33.881778Z",
     "shell.execute_reply": "2022-04-17T03:04:33.882742Z",
     "shell.execute_reply.started": "2022-04-16T09:43:59.552418Z"
    },
    "papermill": {
     "duration": 3.224708,
     "end_time": "2022-04-17T03:04:33.883019",
     "exception": false,
     "start_time": "2022-04-17T03:04:30.658311",
     "status": "completed"
    },
    "tags": []
   },
   "outputs": [],
   "source": [
    "reduced_90_test = final_pca.transform(scaled_X_test)"
   ]
  },
  {
   "cell_type": "code",
   "execution_count": 32,
   "id": "43464f61",
   "metadata": {
    "execution": {
     "iopub.execute_input": "2022-04-17T03:04:34.080437Z",
     "iopub.status.busy": "2022-04-17T03:04:34.079564Z",
     "iopub.status.idle": "2022-04-17T03:04:34.082998Z",
     "shell.execute_reply": "2022-04-17T03:04:34.083497Z",
     "shell.execute_reply.started": "2022-04-16T09:44:01.896426Z"
    },
    "papermill": {
     "duration": 0.081865,
     "end_time": "2022-04-17T03:04:34.083668",
     "exception": false,
     "start_time": "2022-04-17T03:04:34.001803",
     "status": "completed"
    },
    "tags": []
   },
   "outputs": [
    {
     "data": {
      "text/plain": [
       "(35043, 3999)"
      ]
     },
     "execution_count": 32,
     "metadata": {},
     "output_type": "execute_result"
    }
   ],
   "source": [
    "reduced_90.shape"
   ]
  },
  {
   "cell_type": "markdown",
   "id": "19855bce",
   "metadata": {
    "papermill": {
     "duration": 0.077988,
     "end_time": "2022-04-17T03:04:34.233878",
     "exception": false,
     "start_time": "2022-04-17T03:04:34.155890",
     "status": "completed"
    },
    "tags": []
   },
   "source": [
    "3999 components explain 90% of the variance in the training data."
   ]
  },
  {
   "cell_type": "code",
   "execution_count": 33,
   "id": "b03c843e",
   "metadata": {
    "execution": {
     "iopub.execute_input": "2022-04-17T03:04:34.386072Z",
     "iopub.status.busy": "2022-04-17T03:04:34.384791Z",
     "iopub.status.idle": "2022-04-17T03:07:30.529183Z",
     "shell.execute_reply": "2022-04-17T03:07:30.528586Z",
     "shell.execute_reply.started": "2022-04-16T09:44:01.9086Z"
    },
    "papermill": {
     "duration": 176.222054,
     "end_time": "2022-04-17T03:07:30.529375",
     "exception": false,
     "start_time": "2022-04-17T03:04:34.307321",
     "status": "completed"
    },
    "tags": []
   },
   "outputs": [],
   "source": [
    "final_pca = PCA(0.8)\n",
    "reduced_80 = final_pca.fit_transform(scaled_X_train) # Number of Components explaining 80% variance in the training data"
   ]
  },
  {
   "cell_type": "code",
   "execution_count": 34,
   "id": "947ff81e",
   "metadata": {
    "execution": {
     "iopub.execute_input": "2022-04-17T03:07:30.677174Z",
     "iopub.status.busy": "2022-04-17T03:07:30.676206Z",
     "iopub.status.idle": "2022-04-17T03:07:30.681640Z",
     "shell.execute_reply": "2022-04-17T03:07:30.682201Z",
     "shell.execute_reply.started": "2022-04-16T09:46:50.08984Z"
    },
    "papermill": {
     "duration": 0.0802,
     "end_time": "2022-04-17T03:07:30.682395",
     "exception": false,
     "start_time": "2022-04-17T03:07:30.602195",
     "status": "completed"
    },
    "tags": []
   },
   "outputs": [
    {
     "data": {
      "text/plain": [
       "(35043, 3290)"
      ]
     },
     "execution_count": 34,
     "metadata": {},
     "output_type": "execute_result"
    }
   ],
   "source": [
    "reduced_80.shape"
   ]
  },
  {
   "cell_type": "markdown",
   "id": "b75ccac1",
   "metadata": {
    "papermill": {
     "duration": 0.070752,
     "end_time": "2022-04-17T03:07:30.824841",
     "exception": false,
     "start_time": "2022-04-17T03:07:30.754089",
     "status": "completed"
    },
    "tags": []
   },
   "source": [
    "3290 components explain 80% of the variance in the training data."
   ]
  },
  {
   "cell_type": "markdown",
   "id": "9e61e97e",
   "metadata": {
    "papermill": {
     "duration": 0.073146,
     "end_time": "2022-04-17T03:07:30.969850",
     "exception": false,
     "start_time": "2022-04-17T03:07:30.896704",
     "status": "completed"
    },
    "tags": []
   },
   "source": [
    "## Model Training"
   ]
  },
  {
   "cell_type": "code",
   "execution_count": 35,
   "id": "0cbbdbd9",
   "metadata": {
    "execution": {
     "iopub.execute_input": "2022-04-17T03:07:31.119252Z",
     "iopub.status.busy": "2022-04-17T03:07:31.118266Z",
     "iopub.status.idle": "2022-04-17T03:07:31.122004Z",
     "shell.execute_reply": "2022-04-17T03:07:31.122572Z",
     "shell.execute_reply.started": "2022-04-16T09:46:50.098276Z"
    },
    "papermill": {
     "duration": 0.080312,
     "end_time": "2022-04-17T03:07:31.122728",
     "exception": false,
     "start_time": "2022-04-17T03:07:31.042416",
     "status": "completed"
    },
    "tags": []
   },
   "outputs": [],
   "source": [
    "from sklearn.metrics import plot_confusion_matrix, classification_report"
   ]
  },
  {
   "cell_type": "code",
   "execution_count": 36,
   "id": "5856885e",
   "metadata": {
    "execution": {
     "iopub.execute_input": "2022-04-17T03:07:31.292681Z",
     "iopub.status.busy": "2022-04-17T03:07:31.291771Z",
     "iopub.status.idle": "2022-04-17T03:08:31.890030Z",
     "shell.execute_reply": "2022-04-17T03:08:31.890545Z",
     "shell.execute_reply.started": "2022-04-16T13:53:33.647639Z"
    },
    "papermill": {
     "duration": 60.6878,
     "end_time": "2022-04-17T03:08:31.890710",
     "exception": false,
     "start_time": "2022-04-17T03:07:31.202910",
     "status": "completed"
    },
    "tags": []
   },
   "outputs": [
    {
     "name": "stdout",
     "output_type": "stream",
     "text": [
      "                   precision    recall  f1-score   support\n",
      "\n",
      "              age       0.86      0.83      0.85       766\n",
      "        ethnicity       0.90      0.85      0.87       801\n",
      "           gender       0.77      0.79      0.78       788\n",
      "not_cyberbullying       0.65      0.67      0.66       783\n",
      "         religion       0.84      0.86      0.85       756\n",
      "\n",
      "         accuracy                           0.80      3894\n",
      "        macro avg       0.80      0.80      0.80      3894\n",
      "     weighted avg       0.80      0.80      0.80      3894\n",
      "\n"
     ]
    },
    {
     "data": {
      "text/plain": [
       "<sklearn.metrics._plot.confusion_matrix.ConfusionMatrixDisplay at 0x7f0a1ca83410>"
      ]
     },
     "execution_count": 36,
     "metadata": {},
     "output_type": "execute_result"
    },
    {
     "data": {
      "image/png": "[encoded data removed]",
      "text/plain": [
       "<Figure size 432x288 with 2 Axes>"
      ]
     },
     "metadata": {
      "needs_background": "light"
     },
     "output_type": "display_data"
    }
   ],
   "source": [
    "# LOGISTIC REGRESSION with the the 90% variance data\n",
    "from sklearn.linear_model import LogisticRegression\n",
    "log_model_pca = LogisticRegression()\n",
    "log_model_pca.fit(reduced_90, y_train)\n",
    "preds_log_model_pca = log_model_pca.predict(reduced_90_test)\n",
    "print(classification_report(y_test, preds_log_model_pca))\n",
    "plot_confusion_matrix(log_model_pca, reduced_90_test, y_test)"
   ]
  },
  {
   "cell_type": "code",
   "execution_count": 37,
   "id": "3004e872",
   "metadata": {
    "execution": {
     "iopub.execute_input": "2022-04-17T03:08:32.045375Z",
     "iopub.status.busy": "2022-04-17T03:08:32.044682Z",
     "iopub.status.idle": "2022-04-17T03:08:51.197010Z",
     "shell.execute_reply": "2022-04-17T03:08:51.196360Z",
     "shell.execute_reply.started": "2022-04-16T09:46:50.111638Z"
    },
    "papermill": {
     "duration": 19.232845,
     "end_time": "2022-04-17T03:08:51.197149",
     "exception": false,
     "start_time": "2022-04-17T03:08:31.964304",
     "status": "completed"
    },
    "tags": []
   },
   "outputs": [
    {
     "name": "stdout",
     "output_type": "stream",
     "text": [
      "                   precision    recall  f1-score   support\n",
      "\n",
      "              age       0.96      0.97      0.96       766\n",
      "        ethnicity       0.98      0.98      0.98       801\n",
      "           gender       0.92      0.84      0.88       788\n",
      "not_cyberbullying       0.80      0.85      0.82       783\n",
      "         religion       0.94      0.96      0.95       756\n",
      "\n",
      "         accuracy                           0.92      3894\n",
      "        macro avg       0.92      0.92      0.92      3894\n",
      "     weighted avg       0.92      0.92      0.92      3894\n",
      "\n"
     ]
    },
    {
     "data": {
      "text/plain": [
       "<sklearn.metrics._plot.confusion_matrix.ConfusionMatrixDisplay at 0x7f0a1ca1ad10>"
      ]
     },
     "execution_count": 37,
     "metadata": {},
     "output_type": "execute_result"
    },
    {
     "data": {
      "image/png": "[encoded data removed]",
      "text/plain": [
       "<Figure size 432x288 with 2 Axes>"
      ]
     },
     "metadata": {
      "needs_background": "light"
     },
     "output_type": "display_data"
    }
   ],
   "source": [
    "# LOGISTIC REGRESSION with the complete data\n",
    "from sklearn.experimental import enable_halving_search_cv\n",
    "from sklearn.model_selection import HalvingGridSearchCV\n",
    "log_model = LogisticRegression(solver = 'saga')\n",
    "param_grid = {'C': np.logspace(0, 10, 5)}\n",
    "grid_log_model = HalvingGridSearchCV(log_model, param_grid = param_grid, n_jobs = -1, min_resources = 'exhaust', factor = 3)\n",
    "grid_log_model.fit(X_train_tfidf, y_train)\n",
    "preds_grid_log_model = grid_log_model.predict(X_test_tfidf)\n",
    "print(classification_report(y_test, preds_grid_log_model))\n",
    "plot_confusion_matrix(grid_log_model, X_test_tfidf, y_test)"
   ]
  },
  {
   "cell_type": "code",
   "execution_count": 38,
   "id": "5e8674ad",
   "metadata": {
    "execution": {
     "iopub.execute_input": "2022-04-17T03:08:51.357421Z",
     "iopub.status.busy": "2022-04-17T03:08:51.356768Z",
     "iopub.status.idle": "2022-04-17T03:08:51.362120Z",
     "shell.execute_reply": "2022-04-17T03:08:51.362614Z",
     "shell.execute_reply.started": "2022-04-16T09:47:10.748396Z"
    },
    "papermill": {
     "duration": 0.088637,
     "end_time": "2022-04-17T03:08:51.362786",
     "exception": false,
     "start_time": "2022-04-17T03:08:51.274149",
     "status": "completed"
    },
    "tags": []
   },
   "outputs": [
    {
     "data": {
      "text/plain": [
       "LogisticRegression(solver='saga')"
      ]
     },
     "execution_count": 38,
     "metadata": {},
     "output_type": "execute_result"
    }
   ],
   "source": [
    "grid_log_model.best_estimator_ # C = 1"
   ]
  },
  {
   "cell_type": "code",
   "execution_count": 39,
   "id": "8507d3f6",
   "metadata": {
    "execution": {
     "iopub.execute_input": "2022-04-17T03:08:51.521827Z",
     "iopub.status.busy": "2022-04-17T03:08:51.521106Z",
     "iopub.status.idle": "2022-04-17T03:08:55.398933Z",
     "shell.execute_reply": "2022-04-17T03:08:55.398418Z",
     "shell.execute_reply.started": "2022-04-16T10:52:33.333418Z"
    },
    "papermill": {
     "duration": 3.959386,
     "end_time": "2022-04-17T03:08:55.399080",
     "exception": false,
     "start_time": "2022-04-17T03:08:51.439694",
     "status": "completed"
    },
    "tags": []
   },
   "outputs": [
    {
     "name": "stdout",
     "output_type": "stream",
     "text": [
      "                   precision    recall  f1-score   support\n",
      "\n",
      "              age       0.94      0.98      0.96       766\n",
      "        ethnicity       0.97      0.98      0.98       801\n",
      "           gender       0.94      0.81      0.87       788\n",
      "not_cyberbullying       0.79      0.85      0.82       783\n",
      "         religion       0.95      0.96      0.96       756\n",
      "\n",
      "         accuracy                           0.92      3894\n",
      "        macro avg       0.92      0.92      0.92      3894\n",
      "     weighted avg       0.92      0.92      0.92      3894\n",
      "\n"
     ]
    },
    {
     "data": {
      "text/plain": [
       "<sklearn.metrics._plot.confusion_matrix.ConfusionMatrixDisplay at 0x7f0a1ca17d50>"
      ]
     },
     "execution_count": 39,
     "metadata": {},
     "output_type": "execute_result"
    },
    {
     "data": {
      "image/png": "[encoded data removed]",
      "text/plain": [
       "<Figure size 432x288 with 2 Axes>"
      ]
     },
     "metadata": {
      "needs_background": "light"
     },
     "output_type": "display_data"
    }
   ],
   "source": [
    "# SUPPORT VECTOR MACHINES\n",
    "from sklearn.svm import LinearSVC\n",
    "svm_model = LinearSVC()\n",
    "C = [1e-5, 1e-4, 1e-2, 1e-1, 1]\n",
    "param_grid = {'C': C}\n",
    "grid_svm_model = HalvingGridSearchCV(svm_model, param_grid = param_grid, n_jobs = -1, min_resources = 'exhaust', factor = 3)\n",
    "grid_svm_model.fit(X_train_tfidf, y_train)\n",
    "preds_grid_svm_model = grid_svm_model.predict(X_test_tfidf)\n",
    "print(classification_report(y_test, preds_grid_svm_model))\n",
    "plot_confusion_matrix(grid_svm_model, X_test_tfidf, y_test)"
   ]
  },
  {
   "cell_type": "code",
   "execution_count": 40,
   "id": "65837ba1",
   "metadata": {
    "execution": {
     "iopub.execute_input": "2022-04-17T03:08:55.560189Z",
     "iopub.status.busy": "2022-04-17T03:08:55.559487Z",
     "iopub.status.idle": "2022-04-17T03:08:55.563915Z",
     "shell.execute_reply": "2022-04-17T03:08:55.564532Z",
     "shell.execute_reply.started": "2022-04-16T10:52:39.02894Z"
    },
    "papermill": {
     "duration": 0.086655,
     "end_time": "2022-04-17T03:08:55.564706",
     "exception": false,
     "start_time": "2022-04-17T03:08:55.478051",
     "status": "completed"
    },
    "tags": []
   },
   "outputs": [
    {
     "data": {
      "text/plain": [
       "LinearSVC(C=0.1)"
      ]
     },
     "execution_count": 40,
     "metadata": {},
     "output_type": "execute_result"
    }
   ],
   "source": [
    "grid_svm_model.best_estimator_"
   ]
  },
  {
   "cell_type": "code",
   "execution_count": 41,
   "id": "71761ab9",
   "metadata": {
    "execution": {
     "iopub.execute_input": "2022-04-17T03:08:55.726208Z",
     "iopub.status.busy": "2022-04-17T03:08:55.725582Z",
     "iopub.status.idle": "2022-04-17T03:11:28.390644Z",
     "shell.execute_reply": "2022-04-17T03:11:28.391124Z",
     "shell.execute_reply.started": "2022-04-16T10:52:39.037665Z"
    },
    "papermill": {
     "duration": 152.746314,
     "end_time": "2022-04-17T03:11:28.391332",
     "exception": false,
     "start_time": "2022-04-17T03:08:55.645018",
     "status": "completed"
    },
    "tags": []
   },
   "outputs": [
    {
     "name": "stdout",
     "output_type": "stream",
     "text": [
      "                   precision    recall  f1-score   support\n",
      "\n",
      "              age       0.95      0.97      0.96       766\n",
      "        ethnicity       0.97      0.98      0.97       801\n",
      "           gender       0.89      0.84      0.87       788\n",
      "not_cyberbullying       0.81      0.82      0.82       783\n",
      "         religion       0.94      0.96      0.95       756\n",
      "\n",
      "         accuracy                           0.91      3894\n",
      "        macro avg       0.91      0.91      0.91      3894\n",
      "     weighted avg       0.91      0.91      0.91      3894\n",
      "\n"
     ]
    },
    {
     "data": {
      "text/plain": [
       "<sklearn.metrics._plot.confusion_matrix.ConfusionMatrixDisplay at 0x7f0a1ca11b10>"
      ]
     },
     "execution_count": 41,
     "metadata": {},
     "output_type": "execute_result"
    },
    {
     "data": {
      "image/png": "[encoded data removed]",
      "text/plain": [
       "<Figure size 432x288 with 2 Axes>"
      ]
     },
     "metadata": {
      "needs_background": "light"
     },
     "output_type": "display_data"
    }
   ],
   "source": [
    "# NEURAL NETWORKS\n",
    "from sklearn.neural_network import MLPClassifier\n",
    "nn_model = MLPClassifier(activation = 'logistic', max_iter = 10)  # Sigmoid Activation Function\n",
    "param_grid = {'learning_rate_init': [0.001, 0.0015, 0.002, 0.0025]}\n",
    "grid_nn_model = HalvingGridSearchCV(nn_model, param_grid = param_grid, n_jobs = -1, min_resources = 'exhaust', factor = 3)\n",
    "grid_nn_model.fit(X_train_tfidf, y_train)\n",
    "preds_grid_nn_model = grid_nn_model.predict(X_test_tfidf)\n",
    "print(classification_report(y_test, preds_grid_nn_model))\n",
    "plot_confusion_matrix(grid_nn_model, X_test_tfidf, y_test)"
   ]
  },
  {
   "cell_type": "code",
   "execution_count": 42,
   "id": "233824f3",
   "metadata": {
    "execution": {
     "iopub.execute_input": "2022-04-17T03:11:28.559544Z",
     "iopub.status.busy": "2022-04-17T03:11:28.558716Z",
     "iopub.status.idle": "2022-04-17T03:11:28.561694Z",
     "shell.execute_reply": "2022-04-17T03:11:28.562188Z",
     "shell.execute_reply.started": "2022-04-16T10:55:19.396241Z"
    },
    "papermill": {
     "duration": 0.090271,
     "end_time": "2022-04-17T03:11:28.562371",
     "exception": false,
     "start_time": "2022-04-17T03:11:28.472100",
     "status": "completed"
    },
    "tags": []
   },
   "outputs": [
    {
     "data": {
      "text/plain": [
       "MLPClassifier(activation='logistic', learning_rate_init=0.002, max_iter=10)"
      ]
     },
     "execution_count": 42,
     "metadata": {},
     "output_type": "execute_result"
    }
   ],
   "source": [
    "grid_nn_model.best_estimator_"
   ]
  },
  {
   "cell_type": "code",
   "execution_count": 43,
   "id": "558f13f2",
   "metadata": {
    "execution": {
     "iopub.execute_input": "2022-04-17T03:11:28.733026Z",
     "iopub.status.busy": "2022-04-17T03:11:28.732378Z",
     "iopub.status.idle": "2022-04-17T03:15:59.132604Z",
     "shell.execute_reply": "2022-04-17T03:15:59.133101Z",
     "shell.execute_reply.started": "2022-04-16T12:05:03.654809Z"
    },
    "papermill": {
     "duration": 270.48994,
     "end_time": "2022-04-17T03:15:59.133293",
     "exception": false,
     "start_time": "2022-04-17T03:11:28.643353",
     "status": "completed"
    },
    "tags": []
   },
   "outputs": [
    {
     "name": "stdout",
     "output_type": "stream",
     "text": [
      "                   precision    recall  f1-score   support\n",
      "\n",
      "              age       0.98      0.98      0.98       766\n",
      "        ethnicity       0.98      0.98      0.98       801\n",
      "           gender       0.92      0.86      0.89       788\n",
      "not_cyberbullying       0.81      0.86      0.84       783\n",
      "         religion       0.95      0.96      0.96       756\n",
      "\n",
      "         accuracy                           0.93      3894\n",
      "        macro avg       0.93      0.93      0.93      3894\n",
      "     weighted avg       0.93      0.93      0.93      3894\n",
      "\n"
     ]
    },
    {
     "data": {
      "text/plain": [
       "<sklearn.metrics._plot.confusion_matrix.ConfusionMatrixDisplay at 0x7f0a19500090>"
      ]
     },
     "execution_count": 43,
     "metadata": {},
     "output_type": "execute_result"
    },
    {
     "data": {
      "image/png": "[encoded data removed]",
      "text/plain": [
       "<Figure size 432x288 with 2 Axes>"
      ]
     },
     "metadata": {
      "needs_background": "light"
     },
     "output_type": "display_data"
    }
   ],
   "source": [
    "# RANDOM FORESTS\n",
    "from sklearn.ensemble import RandomForestClassifier\n",
    "rf_model = RandomForestClassifier(random_state = 42)\n",
    "n_estimators = [64, 100, 128]\n",
    "bootstrap = [True, False] # Bootstrapping is true by default\n",
    "param_grid = {'n_estimators': n_estimators, 'bootstrap': bootstrap}\n",
    "grid_rf_model = HalvingGridSearchCV(rf_model, param_grid = param_grid, n_jobs = -1, min_resources = 'exhaust', factor = 3)\n",
    "grid_rf_model.fit(X_train_tfidf, y_train)\n",
    "preds_grid_rf_model = grid_rf_model.predict(X_test_tfidf)\n",
    "print(classification_report(y_test, preds_grid_rf_model))\n",
    "plot_confusion_matrix(grid_rf_model, X_test_tfidf, y_test)"
   ]
  },
  {
   "cell_type": "code",
   "execution_count": 44,
   "id": "f7e821a2",
   "metadata": {
    "execution": {
     "iopub.execute_input": "2022-04-17T03:15:59.303115Z",
     "iopub.status.busy": "2022-04-17T03:15:59.302456Z",
     "iopub.status.idle": "2022-04-17T03:15:59.307087Z",
     "shell.execute_reply": "2022-04-17T03:15:59.307697Z",
     "shell.execute_reply.started": "2022-04-16T12:10:40.006373Z"
    },
    "papermill": {
     "duration": 0.091314,
     "end_time": "2022-04-17T03:15:59.307866",
     "exception": false,
     "start_time": "2022-04-17T03:15:59.216552",
     "status": "completed"
    },
    "tags": []
   },
   "outputs": [
    {
     "data": {
      "text/plain": [
       "RandomForestClassifier(n_estimators=128, random_state=42)"
      ]
     },
     "execution_count": 44,
     "metadata": {},
     "output_type": "execute_result"
    }
   ],
   "source": [
    "grid_rf_model.best_estimator_"
   ]
  },
  {
   "cell_type": "code",
   "execution_count": 45,
   "id": "44dda4c4",
   "metadata": {
    "execution": {
     "iopub.execute_input": "2022-04-17T03:15:59.476921Z",
     "iopub.status.busy": "2022-04-17T03:15:59.476274Z",
     "iopub.status.idle": "2022-04-17T03:27:32.199408Z",
     "shell.execute_reply": "2022-04-17T03:27:32.199940Z",
     "shell.execute_reply.started": "2022-04-16T12:12:58.201207Z"
    },
    "papermill": {
     "duration": 692.809519,
     "end_time": "2022-04-17T03:27:32.200140",
     "exception": false,
     "start_time": "2022-04-17T03:15:59.390621",
     "status": "completed"
    },
    "tags": []
   },
   "outputs": [
    {
     "name": "stdout",
     "output_type": "stream",
     "text": [
      "                   precision    recall  f1-score   support\n",
      "\n",
      "              age       0.98      0.97      0.98       766\n",
      "        ethnicity       0.99      0.98      0.99       801\n",
      "           gender       0.95      0.79      0.86       788\n",
      "not_cyberbullying       0.75      0.91      0.82       783\n",
      "         religion       0.96      0.95      0.95       756\n",
      "\n",
      "         accuracy                           0.92      3894\n",
      "        macro avg       0.93      0.92      0.92      3894\n",
      "     weighted avg       0.93      0.92      0.92      3894\n",
      "\n"
     ]
    },
    {
     "data": {
      "text/plain": [
       "<sklearn.metrics._plot.confusion_matrix.ConfusionMatrixDisplay at 0x7f0a1c9ca810>"
      ]
     },
     "execution_count": 45,
     "metadata": {},
     "output_type": "execute_result"
    },
    {
     "data": {
      "image/png": "[encoded data removed]",
      "text/plain": [
       "<Figure size 432x288 with 2 Axes>"
      ]
     },
     "metadata": {
      "needs_background": "light"
     },
     "output_type": "display_data"
    }
   ],
   "source": [
    "# GRADIENT BOOSTING\n",
    "from sklearn.ensemble import GradientBoostingClassifier\n",
    "grad_model = GradientBoostingClassifier(random_state = 42)\n",
    "param_grid = {'n_estimators': [64, 100, 128, 200]}\n",
    "grid_grad_model = HalvingGridSearchCV(grad_model, param_grid = param_grid, n_jobs = -1, min_resources = 'exhaust', factor = 3)\n",
    "grid_grad_model.fit(X_train_tfidf, y_train)\n",
    "preds_grid_grad_model = grid_grad_model.predict(X_test_tfidf)\n",
    "print(classification_report(y_test, preds_grid_grad_model))\n",
    "plot_confusion_matrix(grid_grad_model, X_test_tfidf, y_test)"
   ]
  },
  {
   "cell_type": "code",
   "execution_count": 46,
   "id": "818f63ec",
   "metadata": {
    "execution": {
     "iopub.execute_input": "2022-04-17T03:27:32.375204Z",
     "iopub.status.busy": "2022-04-17T03:27:32.374270Z",
     "iopub.status.idle": "2022-04-17T03:27:32.380014Z",
     "shell.execute_reply": "2022-04-17T03:27:32.380646Z",
     "shell.execute_reply.started": "2022-04-16T12:49:50.943531Z"
    },
    "papermill": {
     "duration": 0.095245,
     "end_time": "2022-04-17T03:27:32.380816",
     "exception": false,
     "start_time": "2022-04-17T03:27:32.285571",
     "status": "completed"
    },
    "tags": []
   },
   "outputs": [
    {
     "data": {
      "text/plain": [
       "GradientBoostingClassifier(n_estimators=200, random_state=42)"
      ]
     },
     "execution_count": 46,
     "metadata": {},
     "output_type": "execute_result"
    }
   ],
   "source": [
    "grid_grad_model.best_estimator_"
   ]
  },
  {
   "cell_type": "code",
   "execution_count": 47,
   "id": "3c06e840",
   "metadata": {
    "execution": {
     "iopub.execute_input": "2022-04-17T03:27:32.557116Z",
     "iopub.status.busy": "2022-04-17T03:27:32.556167Z",
     "iopub.status.idle": "2022-04-17T03:27:33.208378Z",
     "shell.execute_reply": "2022-04-17T03:27:33.208850Z",
     "shell.execute_reply.started": "2022-04-16T11:14:04.047404Z"
    },
    "papermill": {
     "duration": 0.742406,
     "end_time": "2022-04-17T03:27:33.209027",
     "exception": false,
     "start_time": "2022-04-17T03:27:32.466621",
     "status": "completed"
    },
    "tags": []
   },
   "outputs": [
    {
     "name": "stdout",
     "output_type": "stream",
     "text": [
      "                   precision    recall  f1-score   support\n",
      "\n",
      "              age       0.81      0.97      0.88       766\n",
      "        ethnicity       0.88      0.91      0.90       801\n",
      "           gender       0.86      0.80      0.83       788\n",
      "not_cyberbullying       0.83      0.55      0.66       783\n",
      "         religion       0.81      0.96      0.88       756\n",
      "\n",
      "         accuracy                           0.84      3894\n",
      "        macro avg       0.84      0.84      0.83      3894\n",
      "     weighted avg       0.84      0.84      0.83      3894\n",
      "\n"
     ]
    },
    {
     "data": {
      "text/plain": [
       "<sklearn.metrics._plot.confusion_matrix.ConfusionMatrixDisplay at 0x7f0a18db8650>"
      ]
     },
     "execution_count": 47,
     "metadata": {},
     "output_type": "execute_result"
    },
    {
     "data": {
      "image/png": "[encoded data removed]",
      "text/plain": [
       "<Figure size 432x288 with 2 Axes>"
      ]
     },
     "metadata": {
      "needs_background": "light"
     },
     "output_type": "display_data"
    }
   ],
   "source": [
    "# NAIVE - BAYES\n",
    "from sklearn.naive_bayes import MultinomialNB\n",
    "nb_model = MultinomialNB()\n",
    "nb_model.fit(X_train_tfidf, y_train)\n",
    "preds_nb_model = nb_model.predict(X_test_tfidf)\n",
    "print(classification_report(y_test, preds_nb_model))\n",
    "plot_confusion_matrix(nb_model, X_test_tfidf, y_test)"
   ]
  },
  {
   "cell_type": "markdown",
   "id": "c1b1e453",
   "metadata": {
    "papermill": {
     "duration": 0.087854,
     "end_time": "2022-04-17T03:27:33.385090",
     "exception": false,
     "start_time": "2022-04-17T03:27:33.297236",
     "status": "completed"
    },
    "tags": []
   },
   "source": [
    "Random Forests turns out to be the best performing classifier out of all."
   ]
  },
  {
   "cell_type": "markdown",
   "id": "a2788fd3",
   "metadata": {
    "papermill": {
     "duration": 0.087475,
     "end_time": "2022-04-17T03:27:33.561167",
     "exception": false,
     "start_time": "2022-04-17T03:27:33.473692",
     "status": "completed"
    },
    "tags": []
   },
   "source": [
    "## Pipeline Creation"
   ]
  },
  {
   "cell_type": "code",
   "execution_count": 48,
   "id": "f45dd766",
   "metadata": {
    "_kg_hide-output": true,
    "execution": {
     "iopub.execute_input": "2022-04-17T03:27:33.741577Z",
     "iopub.status.busy": "2022-04-17T03:27:33.740604Z",
     "iopub.status.idle": "2022-04-17T03:28:22.475406Z",
     "shell.execute_reply": "2022-04-17T03:28:22.475936Z",
     "shell.execute_reply.started": "2022-04-16T12:11:09.030389Z"
    },
    "papermill": {
     "duration": 48.826768,
     "end_time": "2022-04-17T03:28:22.476105",
     "exception": false,
     "start_time": "2022-04-17T03:27:33.649337",
     "status": "completed"
    },
    "tags": []
   },
   "outputs": [
    {
     "data": {
      "text/plain": [
       "Pipeline(steps=[('tfidf', TfidfVectorizer(max_features=5000)),\n",
       "                ('rf_model',\n",
       "                 RandomForestClassifier(n_estimators=128, random_state=42))])"
      ]
     },
     "execution_count": 48,
     "metadata": {},
     "output_type": "execute_result"
    }
   ],
   "source": [
    "# Creating a pipeline\n",
    "from sklearn.pipeline import Pipeline\n",
    "pipe = Pipeline([('tfidf', TfidfVectorizer(max_features = 5000)), ('rf_model', RandomForestClassifier(n_estimators = 128, random_state = 42))])\n",
    "pipe.fit(X, y)"
   ]
  },
  {
   "cell_type": "code",
   "execution_count": 49,
   "id": "d60f58b6",
   "metadata": {
    "execution": {
     "iopub.execute_input": "2022-04-17T03:28:22.657924Z",
     "iopub.status.busy": "2022-04-17T03:28:22.656924Z",
     "iopub.status.idle": "2022-04-17T03:28:22.679443Z",
     "shell.execute_reply": "2022-04-17T03:28:22.678930Z",
     "shell.execute_reply.started": "2022-04-16T12:11:53.550197Z"
    },
    "papermill": {
     "duration": 0.11441,
     "end_time": "2022-04-17T03:28:22.679597",
     "exception": false,
     "start_time": "2022-04-17T03:28:22.565187",
     "status": "completed"
    },
    "tags": []
   },
   "outputs": [
    {
     "data": {
      "text/plain": [
       "array(['not_cyberbullying'], dtype=object)"
      ]
     },
     "execution_count": 49,
     "metadata": {},
     "output_type": "execute_result"
    }
   ],
   "source": [
    "pipe.predict([\"@abc Hey man! Great match today. Your smashes were spot on. Let's continue playing together. \\\n",
    "               #badminton #brotherhood #men #doubles\"])"
   ]
  },
  {
   "cell_type": "markdown",
   "id": "ada051b0",
   "metadata": {
    "papermill": {
     "duration": 0.090852,
     "end_time": "2022-04-17T03:28:22.860886",
     "exception": false,
     "start_time": "2022-04-17T03:28:22.770034",
     "status": "completed"
    },
    "tags": []
   },
   "source": [
    "## Note: The following tweets have been taken from the internet just to demonstrate the working of our Machine Learning Model. We haven't made any of them up. We believe in equality and don't discriminate on any grounds. We're strongly against all the types of bullying."
   ]
  },
  {
   "cell_type": "code",
   "execution_count": 50,
   "id": "086e2197",
   "metadata": {
    "execution": {
     "iopub.execute_input": "2022-04-17T03:28:23.050152Z",
     "iopub.status.busy": "2022-04-17T03:28:23.049131Z",
     "iopub.status.idle": "2022-04-17T03:28:23.068634Z",
     "shell.execute_reply": "2022-04-17T03:28:23.069095Z",
     "shell.execute_reply.started": "2022-04-16T12:11:58.978977Z"
    },
    "papermill": {
     "duration": 0.117818,
     "end_time": "2022-04-17T03:28:23.069291",
     "exception": false,
     "start_time": "2022-04-17T03:28:22.951473",
     "status": "completed"
    },
    "tags": []
   },
   "outputs": [
    {
     "data": {
      "text/plain": [
       "array(['ethnicity'], dtype=object)"
      ]
     },
     "execution_count": 50,
     "metadata": {},
     "output_type": "execute_result"
    }
   ],
   "source": [
    "pipe.predict([\"Going to Africa. Hope I don't get AIDS. Just kidding. I'm white!\"])"
   ]
  },
  {
   "cell_type": "code",
   "execution_count": 51,
   "id": "ded4e2c5",
   "metadata": {
    "execution": {
     "iopub.execute_input": "2022-04-17T03:28:23.256573Z",
     "iopub.status.busy": "2022-04-17T03:28:23.255918Z",
     "iopub.status.idle": "2022-04-17T03:28:23.272993Z",
     "shell.execute_reply": "2022-04-17T03:28:23.273580Z",
     "shell.execute_reply.started": "2022-04-16T12:12:03.195487Z"
    },
    "papermill": {
     "duration": 0.113163,
     "end_time": "2022-04-17T03:28:23.273760",
     "exception": false,
     "start_time": "2022-04-17T03:28:23.160597",
     "status": "completed"
    },
    "tags": []
   },
   "outputs": [
    {
     "data": {
      "text/plain": [
       "array(['religion'], dtype=object)"
      ]
     },
     "execution_count": 51,
     "metadata": {},
     "output_type": "execute_result"
    }
   ],
   "source": [
    "pipe.predict([\"Muslims should be punished. We are not doing enough to rid us of those filthy animals.\"])"
   ]
  },
  {
   "cell_type": "code",
   "execution_count": 52,
   "id": "fa16935e",
   "metadata": {
    "execution": {
     "iopub.execute_input": "2022-04-17T03:28:23.457829Z",
     "iopub.status.busy": "2022-04-17T03:28:23.457131Z",
     "iopub.status.idle": "2022-04-17T03:28:23.477309Z",
     "shell.execute_reply": "2022-04-17T03:28:23.477908Z",
     "shell.execute_reply.started": "2022-04-16T12:12:04.929148Z"
    },
    "papermill": {
     "duration": 0.11421,
     "end_time": "2022-04-17T03:28:23.478074",
     "exception": false,
     "start_time": "2022-04-17T03:28:23.363864",
     "status": "completed"
    },
    "tags": []
   },
   "outputs": [
    {
     "data": {
      "text/plain": [
       "array(['age'], dtype=object)"
      ]
     },
     "execution_count": 52,
     "metadata": {},
     "output_type": "execute_result"
    }
   ],
   "source": [
    "pipe.predict([\"@abc Man you don't have any facial hair. You look like a fucking 9 year old school boy! #clown #idiot\"])"
   ]
  },
  {
   "cell_type": "code",
   "execution_count": 53,
   "id": "0aa2c43e",
   "metadata": {
    "execution": {
     "iopub.execute_input": "2022-04-17T03:28:23.662556Z",
     "iopub.status.busy": "2022-04-17T03:28:23.661890Z",
     "iopub.status.idle": "2022-04-17T03:28:23.683432Z",
     "shell.execute_reply": "2022-04-17T03:28:23.682907Z",
     "shell.execute_reply.started": "2022-04-16T12:50:58.322733Z"
    },
    "papermill": {
     "duration": 0.114775,
     "end_time": "2022-04-17T03:28:23.683576",
     "exception": false,
     "start_time": "2022-04-17T03:28:23.568801",
     "status": "completed"
    },
    "tags": []
   },
   "outputs": [
    {
     "data": {
      "text/plain": [
       "array(['gender'], dtype=object)"
      ]
     },
     "execution_count": 53,
     "metadata": {},
     "output_type": "execute_result"
    }
   ],
   "source": [
    "pipe.predict([\"@abc shut up gay boy\"])"
   ]
  }
 ],
 "metadata": {
  "kernelspec": {
   "display_name": "Python 3 (ipykernel)",
   "language": "python",
   "name": "python3"
  },
  "language_info": {
   "codemirror_mode": {
    "name": "ipython",
    "version": 3
   },
   "file_extension": ".py",
   "mimetype": "text/x-python",
   "name": "python",
   "nbconvert_exporter": "python",
   "pygments_lexer": "ipython3",
   "version": "3.8.12"
  },
  "papermill": {
   "default_parameters": {},
   "duration": 1868.418096,
   "end_time": "2022-04-17T03:28:25.096170",
   "environment_variables": {},
   "exception": null,
   "input_path": "__notebook__.ipynb",
   "output_path": "__notebook__.ipynb",
   "parameters": {},
   "start_time": "2022-04-17T02:57:16.678074",
   "version": "2.3.3"
  }
 },
 "nbformat": 4,
 "nbformat_minor": 5
}
